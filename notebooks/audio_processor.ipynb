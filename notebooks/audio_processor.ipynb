{
 "cells": [
  {
   "cell_type": "code",
   "execution_count": 1,
   "id": "0ef32018-e77d-4482-ba8f-57108054440a",
   "metadata": {},
   "outputs": [
    {
     "name": "stderr",
     "output_type": "stream",
     "text": [
      "/Users/igorlapin/text-analisys/lib/ai_transcribe.py:13: UserWarning: Module 'speechbrain.pretrained' was deprecated, redirecting to 'speechbrain.inference'. Please update your script. This is a change from SpeechBrain 1.0. See: https://github.com/speechbrain/speechbrain/releases/tag/v1.0.0\n",
      "  from speechbrain.pretrained import EncoderClassifier\n"
     ]
    }
   ],
   "source": [
    "import warnings\n",
    "import logging\n",
    "import torch\n",
    "import os\n",
    "from log_utils import setup_logger, configure_root_logger\n",
    "from ai_transcribe import AudioTranscription, AudioToTextResult\n",
    "from transformers import AutoTokenizer, pipeline\n",
    "from typing import List\n",
    "from concurrent.futures import ThreadPoolExecutor\n",
    "from dataclasses import dataclass\n",
    "from tqdm.notebook import tqdm\n",
    "from enum import Enum"
   ]
  },
  {
   "cell_type": "code",
   "execution_count": 2,
   "id": "396ef671-4c75-44e9-8a43-4d012f492177",
   "metadata": {},
   "outputs": [
    {
     "name": "stdout",
     "output_type": "stream",
     "text": [
      "PyTorch version: 2.6.0\n",
      "MPS (Metal GPU) available: True\n",
      "MPS device name: mps\n"
     ]
    }
   ],
   "source": [
    "print(f\"PyTorch version: {torch.__version__}\")\n",
    "print(f\"MPS (Metal GPU) available: {torch.backends.mps.is_available()}\")\n",
    "print(f\"MPS device name: {torch.device('mps')}\")"
   ]
  },
  {
   "cell_type": "code",
   "execution_count": 3,
   "id": "4138861d-4b18-4bb0-a1fb-74c04c4b4f62",
   "metadata": {},
   "outputs": [],
   "source": [
    "BERT_MODEL_NAME = 'bert-base-multilingual-cased'\n",
    "TRANSCRIBE_MODEL_NAME = 'medium'\n",
    "\n",
    "id_to_label = {0: 'DOC', 1: 'MDT', 2: 'NAME', 3: 'O', 4: 'ORG', 5: 'POS', 6: 'TEL', 7: 'VOL'}\n",
    "dict_names = {'ORG': 'Организация', 'VOL': 'Объем обработки документов', 'NAME': 'Имя', 'TEL': 'Телефон'}\n",
    "\n",
    "warnings.filterwarnings(\"ignore\", message=\"FP16 is not supported on CPU\")\n",
    "logging.getLogger(\"speechbrain\").setLevel(logging.WARNING)\n",
    "LOGGER_LEVEL = logging.INFO"
   ]
  },
  {
   "cell_type": "code",
   "execution_count": 4,
   "id": "bb013a19-6a7c-4c28-b21d-b32e6442293c",
   "metadata": {},
   "outputs": [],
   "source": [
    "logger = setup_logger(__name__, level='DEBUG')\n",
    "configure_root_logger(level='DEBUG')"
   ]
  },
  {
   "cell_type": "code",
   "execution_count": 5,
   "id": "213798c5-4d74-4ee4-b671-8316b5a99011",
   "metadata": {},
   "outputs": [
    {
     "name": "stdout",
     "output_type": "stream",
     "text": [
      "\u001B[36m2025-04-13 21:01:04 - urllib3.connectionpool - DEBUG    - Starting new HTTPS connection (1): huggingface.co:443\u001B[0m\n",
      "\u001B[36m2025-04-13 21:01:05 - urllib3.connectionpool - DEBUG    - https://huggingface.co:443 \"HEAD /bert-base-multilingual-cased/resolve/main/tokenizer_config.json HTTP/1.1\" 200 0\u001B[0m\n"
     ]
    }
   ],
   "source": [
    "# Preload models\n",
    "tokenizer = AutoTokenizer.from_pretrained(BERT_MODEL_NAME)\n",
    "device = torch.device(\"mps\" if torch.backends.mps.is_available() else \"cpu\")\n"
   ]
  },
  {
   "cell_type": "code",
   "execution_count": 10,
   "id": "05a27c23-e680-44e8-b18a-7a43e0b978ea",
   "metadata": {},
   "outputs": [],
   "source": [
    "@dataclass\n",
    "class NamedEntity:\n",
    "    entity_type: str\n",
    "    text: set\n",
    "\n",
    "\n",
    "def parse_result(results):\n",
    "    readable_result = []\n",
    "    for pred in results:\n",
    "        label = id_to_label[int(pred[\"entity\"].split(\"_\")[1])]\n",
    "        readable_result.append({\n",
    "            \"word\": pred[\"word\"],\n",
    "            \"entity\": label,\n",
    "            \"score\": pred[\"score\"],\n",
    "            \"start\": pred[\"start\"],\n",
    "            \"end\": pred[\"end\"]\n",
    "        })\n",
    "    current_group = None\n",
    "    result = {}\n",
    "    current_phrase = ''\n",
    "\n",
    "    def add_pair(key, value):\n",
    "        if key not in result:\n",
    "            result[key] = []\n",
    "        result[key].append(value)\n",
    "\n",
    "    for res in readable_result:\n",
    "        word = res['word']\n",
    "        group = res['entity']\n",
    "        if group == \"O\":\n",
    "            if current_group != None:\n",
    "                add_pair(current_group, current_phrase)\n",
    "            current_group = None\n",
    "            current_phrase = ''\n",
    "            continue\n",
    "        if word.startswith('##'):\n",
    "            current_phrase = current_phrase + word.replace('##', '')\n",
    "        elif group == current_group:\n",
    "            current_phrase = current_phrase + ' ' + word\n",
    "        else:\n",
    "            if current_group != None:\n",
    "                add_pair(current_group, current_phrase)\n",
    "            current_group = group\n",
    "            current_phrase = word\n",
    "    for key in result:\n",
    "        result[key] = list(set(result[key]))\n",
    "    named_entities_list = []\n",
    "    for key, value in result.items():\n",
    "        named_entities_list.append(NamedEntity(key, value))\n",
    "    return named_entities_list"
   ]
  },
  {
   "cell_type": "code",
   "execution_count": 25,
   "id": "ebbd3549-5b6c-4120-a430-1c123902248e",
   "metadata": {},
   "outputs": [],
   "source": [
    "class ProcessingStatus(Enum):\n",
    "    INITIALIZED = (0.0, 'Processing not started')\n",
    "    TRANSCRIBING = (0.2, 'Transcribing')\n",
    "    DIARIZING = (0.4, 'Diarizing')\n",
    "    BUILDING_AUDIO_TO_TEXT = (0.6, 'Building audio to text')\n",
    "    RETRIEVING_ENTITIES = (0.8, 'Retrieving entities')\n",
    "    FAILED = (1.0, 'Failed')\n",
    "    DONE = (1.0, 'Done')\n",
    "\n",
    "    def __init__(self, progress, description):\n",
    "        self.progress = progress\n",
    "        self.description = description\n",
    "\n",
    "    @classmethod\n",
    "    def get_progress(cls, status):\n",
    "        return status.progress\n",
    "\n",
    "    @classmethod\n",
    "    def get_description(cls, status):\n",
    "        return status.description\n",
    "\n",
    "\n",
    "class AudioAnalysis:\n",
    "    def __init__(self, audio_path: str):\n",
    "        logger.debug(f'Создан Audio Analisys для {audio_path}')\n",
    "        self.audio_path = os.path.join(os.path.expanduser(\"~\"), audio_path)\n",
    "        self.progress = 0.0\n",
    "        self.status = ProcessingStatus.INITIALIZED\n",
    "        self.results = {\n",
    "            \"audio_process\": AudioTranscription(self.audio_path),\n",
    "            \"audio_text\": None,\n",
    "            \"entities\": None\n",
    "        }\n",
    "        self.pbar = tqdm(total=1.0, initial=0, mininterval=0.5, leave=False)\n",
    "\n",
    "    def run_pipeline(self):\n",
    "        try:\n",
    "            #Transcribe\n",
    "            self.results['audio_process'].full_transcribe()\n",
    "\n",
    "            #Diarization\n",
    "            self.results['audio_process'].just_diarize()\n",
    "\n",
    "            #Unite\n",
    "            self.results['audio_text'] = self.results['audio_process'].results['audio_to_text']\n",
    "\n",
    "            #NER Processing\n",
    "            self.results[\"entities\"] = self._extract_entities()\n",
    "\n",
    "            self._update_status(ProcessingStatus.DONE)\n",
    "\n",
    "            self.pbar.close()\n",
    "        except Exception as e:\n",
    "            logger.error(f\"Error in {e}\")\n",
    "            self._update_status(ProcessingStatus.FAILED)\n",
    "            return None\n",
    "\n",
    "    def _extract_entities(self) -> List[NamedEntity]:\n",
    "        self._update_status(ProcessingStatus.RETRIEVING_ENTITIES)\n",
    "        results = []\n",
    "        ner_pipeline = pipeline(\"ner\", model=\"./ner-model-2.0\", tokenizer=tokenizer, device=device)\n",
    "\n",
    "        for processed_result in self.results[\"audio_text\"]:\n",
    "            parsed = parse_result(ner_pipeline(processed_result.text))\n",
    "            if len(parsed) > 0:\n",
    "                results.append(parsed)\n",
    "        return results\n",
    "\n",
    "    def _update_status(self, status):\n",
    "        self.status = status\n",
    "        self.pbar.set_description(f'{ProcessingStatus.get_description(self.status)} - {self.audio_path}')\n",
    "        self.pbar.n = ProcessingStatus.get_progress(self.status)\n",
    "        self.pbar.refresh()\n"
   ]
  },
  {
   "cell_type": "code",
   "execution_count": 26,
   "outputs": [
    {
     "name": "stdout",
     "output_type": "stream",
     "text": [
      "\u001B[36m2025-04-13 21:15:57 - __main__ - DEBUG    - Создан Audio Analisys для Разговор-15.mp3\u001B[0m\n",
      "\u001B[36m2025-04-13 21:15:57 - ai_transcribe - DEBUG    - Создан Audio Analisys для /Users/igorlapin/Разговор-15.mp3\u001B[0m\n"
     ]
    },
    {
     "data": {
      "text/plain": "  0%|          | 0/1.0 [00:00<?, ?it/s]",
      "application/vnd.jupyter.widget-view+json": {
       "version_major": 2,
       "version_minor": 0,
       "model_id": "a0ef4d1879ed4dd582df9db043d8354b"
      }
     },
     "metadata": {},
     "output_type": "display_data"
    },
    {
     "data": {
      "text/plain": "  0%|          | 0/1.0 [00:00<?, ?it/s]",
      "application/vnd.jupyter.widget-view+json": {
       "version_major": 2,
       "version_minor": 0,
       "model_id": "be9ab7586391404198bb04aeeaf434a1"
      }
     },
     "metadata": {},
     "output_type": "display_data"
    }
   ],
   "source": [
    "ar = AudioAnalysis('Разговор-15.mp3')"
   ],
   "metadata": {
    "collapsed": false
   }
  },
  {
   "cell_type": "code",
   "execution_count": 27,
   "outputs": [
    {
     "name": "stdout",
     "output_type": "stream",
     "text": [
      "\u001B[36m2025-04-13 21:16:00 - ai_transcribe - DEBUG    - Разговор-15.mp3 - TRANSCRIBING..\u001B[0m\n",
      "\u001B[36m2025-04-13 21:16:26 - ai_transcribe - DEBUG    - Разговор-15.mp3 - DIARIZING..\u001B[0m\n",
      "\u001B[32m2025-04-13 21:16:26 - speechbrain.utils.fetching - INFO     - Fetch hyperparams.yaml: Using symlink found at '/Users/igorlapin/text-analisys/notebooks/pretrained_models/hyperparams.yaml'\u001B[0m\n",
      "\u001B[32m2025-04-13 21:16:26 - speechbrain.utils.fetching - INFO     - Fetch custom.py: Fetching from HuggingFace Hub 'speechbrain/spkrec-ecapa-voxceleb' if not cached\u001B[0m\n",
      "\u001B[36m2025-04-13 21:16:26 - urllib3.connectionpool - DEBUG    - Resetting dropped connection: huggingface.co\u001B[0m\n",
      "\u001B[36m2025-04-13 21:16:27 - urllib3.connectionpool - DEBUG    - https://huggingface.co:443 \"HEAD /speechbrain/spkrec-ecapa-voxceleb/resolve/main/custom.py HTTP/1.1\" 404 0\u001B[0m\n",
      "\u001B[36m2025-04-13 21:16:27 - speechbrain.utils.parameter_transfer - DEBUG    - Collecting files (or symlinks) for pretraining in pretrained_models.\u001B[0m\n",
      "\u001B[32m2025-04-13 21:16:27 - speechbrain.utils.fetching - INFO     - Fetch embedding_model.ckpt: Using symlink found at '/Users/igorlapin/text-analisys/notebooks/pretrained_models/embedding_model.ckpt'\u001B[0m\n",
      "\u001B[36m2025-04-13 21:16:27 - speechbrain.utils.parameter_transfer - DEBUG    - Set local path in self.paths[\"embedding_model\"] = /Users/igorlapin/text-analisys/notebooks/pretrained_models/embedding_model.ckpt\u001B[0m\n",
      "\u001B[32m2025-04-13 21:16:27 - speechbrain.utils.fetching - INFO     - Fetch mean_var_norm_emb.ckpt: Using symlink found at '/Users/igorlapin/text-analisys/notebooks/pretrained_models/mean_var_norm_emb.ckpt'\u001B[0m\n",
      "\u001B[36m2025-04-13 21:16:27 - speechbrain.utils.parameter_transfer - DEBUG    - Set local path in self.paths[\"mean_var_norm_emb\"] = /Users/igorlapin/text-analisys/notebooks/pretrained_models/mean_var_norm_emb.ckpt\u001B[0m\n",
      "\u001B[32m2025-04-13 21:16:27 - speechbrain.utils.fetching - INFO     - Fetch classifier.ckpt: Using symlink found at '/Users/igorlapin/text-analisys/notebooks/pretrained_models/classifier.ckpt'\u001B[0m\n",
      "\u001B[36m2025-04-13 21:16:27 - speechbrain.utils.parameter_transfer - DEBUG    - Set local path in self.paths[\"classifier\"] = /Users/igorlapin/text-analisys/notebooks/pretrained_models/classifier.ckpt\u001B[0m\n",
      "\u001B[32m2025-04-13 21:16:27 - speechbrain.utils.fetching - INFO     - Fetch label_encoder.txt: Using symlink found at '/Users/igorlapin/text-analisys/notebooks/pretrained_models/label_encoder.ckpt'\u001B[0m\n",
      "\u001B[36m2025-04-13 21:16:27 - speechbrain.utils.parameter_transfer - DEBUG    - Set local path in self.paths[\"label_encoder\"] = /Users/igorlapin/text-analisys/notebooks/pretrained_models/label_encoder.ckpt\u001B[0m\n",
      "\u001B[32m2025-04-13 21:16:27 - speechbrain.utils.parameter_transfer - INFO     - Loading pretrained files for: embedding_model, mean_var_norm_emb, classifier, label_encoder\u001B[0m\n",
      "\u001B[36m2025-04-13 21:16:27 - speechbrain.utils.parameter_transfer - DEBUG    - Redirecting (loading from local path): embedding_model -> /Users/igorlapin/text-analisys/notebooks/pretrained_models/embedding_model.ckpt\u001B[0m\n",
      "\u001B[36m2025-04-13 21:16:27 - speechbrain.utils.parameter_transfer - DEBUG    - Redirecting (loading from local path): mean_var_norm_emb -> /Users/igorlapin/text-analisys/notebooks/pretrained_models/mean_var_norm_emb.ckpt\u001B[0m\n",
      "\u001B[36m2025-04-13 21:16:27 - speechbrain.utils.parameter_transfer - DEBUG    - Redirecting (loading from local path): classifier -> /Users/igorlapin/text-analisys/notebooks/pretrained_models/classifier.ckpt\u001B[0m\n",
      "\u001B[36m2025-04-13 21:16:27 - speechbrain.utils.parameter_transfer - DEBUG    - Redirecting (loading from local path): label_encoder -> /Users/igorlapin/text-analisys/notebooks/pretrained_models/label_encoder.ckpt\u001B[0m\n",
      "\u001B[36m2025-04-13 21:16:27 - speechbrain.dataio.encoder - DEBUG    - Loaded categorical encoding from /Users/igorlapin/text-analisys/notebooks/pretrained_models/label_encoder.ckpt\u001B[0m\n",
      "\u001B[36m2025-04-13 21:16:28 - ai_transcribe - DEBUG    - Разговор-15.mp3 - DIARIZING..\u001B[0m\n",
      "\u001B[32m2025-04-13 21:16:28 - speechbrain.utils.fetching - INFO     - Fetch hyperparams.yaml: Using symlink found at '/Users/igorlapin/text-analisys/notebooks/pretrained_models/hyperparams.yaml'\u001B[0m\n",
      "\u001B[32m2025-04-13 21:16:28 - speechbrain.utils.fetching - INFO     - Fetch custom.py: Fetching from HuggingFace Hub 'speechbrain/spkrec-ecapa-voxceleb' if not cached\u001B[0m\n",
      "\u001B[36m2025-04-13 21:16:28 - urllib3.connectionpool - DEBUG    - https://huggingface.co:443 \"HEAD /speechbrain/spkrec-ecapa-voxceleb/resolve/main/custom.py HTTP/1.1\" 404 0\u001B[0m\n",
      "\u001B[36m2025-04-13 21:16:28 - speechbrain.utils.parameter_transfer - DEBUG    - Collecting files (or symlinks) for pretraining in pretrained_models.\u001B[0m\n",
      "\u001B[32m2025-04-13 21:16:28 - speechbrain.utils.fetching - INFO     - Fetch embedding_model.ckpt: Using symlink found at '/Users/igorlapin/text-analisys/notebooks/pretrained_models/embedding_model.ckpt'\u001B[0m\n",
      "\u001B[36m2025-04-13 21:16:28 - speechbrain.utils.parameter_transfer - DEBUG    - Set local path in self.paths[\"embedding_model\"] = /Users/igorlapin/text-analisys/notebooks/pretrained_models/embedding_model.ckpt\u001B[0m\n",
      "\u001B[32m2025-04-13 21:16:28 - speechbrain.utils.fetching - INFO     - Fetch mean_var_norm_emb.ckpt: Using symlink found at '/Users/igorlapin/text-analisys/notebooks/pretrained_models/mean_var_norm_emb.ckpt'\u001B[0m\n",
      "\u001B[36m2025-04-13 21:16:28 - speechbrain.utils.parameter_transfer - DEBUG    - Set local path in self.paths[\"mean_var_norm_emb\"] = /Users/igorlapin/text-analisys/notebooks/pretrained_models/mean_var_norm_emb.ckpt\u001B[0m\n",
      "\u001B[32m2025-04-13 21:16:28 - speechbrain.utils.fetching - INFO     - Fetch classifier.ckpt: Using symlink found at '/Users/igorlapin/text-analisys/notebooks/pretrained_models/classifier.ckpt'\u001B[0m\n",
      "\u001B[36m2025-04-13 21:16:28 - speechbrain.utils.parameter_transfer - DEBUG    - Set local path in self.paths[\"classifier\"] = /Users/igorlapin/text-analisys/notebooks/pretrained_models/classifier.ckpt\u001B[0m\n",
      "\u001B[32m2025-04-13 21:16:28 - speechbrain.utils.fetching - INFO     - Fetch label_encoder.txt: Using symlink found at '/Users/igorlapin/text-analisys/notebooks/pretrained_models/label_encoder.ckpt'\u001B[0m\n",
      "\u001B[36m2025-04-13 21:16:28 - speechbrain.utils.parameter_transfer - DEBUG    - Set local path in self.paths[\"label_encoder\"] = /Users/igorlapin/text-analisys/notebooks/pretrained_models/label_encoder.ckpt\u001B[0m\n",
      "\u001B[32m2025-04-13 21:16:28 - speechbrain.utils.parameter_transfer - INFO     - Loading pretrained files for: embedding_model, mean_var_norm_emb, classifier, label_encoder\u001B[0m\n",
      "\u001B[36m2025-04-13 21:16:28 - speechbrain.utils.parameter_transfer - DEBUG    - Redirecting (loading from local path): embedding_model -> /Users/igorlapin/text-analisys/notebooks/pretrained_models/embedding_model.ckpt\u001B[0m\n",
      "\u001B[36m2025-04-13 21:16:28 - speechbrain.utils.parameter_transfer - DEBUG    - Redirecting (loading from local path): mean_var_norm_emb -> /Users/igorlapin/text-analisys/notebooks/pretrained_models/mean_var_norm_emb.ckpt\u001B[0m\n",
      "\u001B[36m2025-04-13 21:16:28 - speechbrain.utils.parameter_transfer - DEBUG    - Redirecting (loading from local path): classifier -> /Users/igorlapin/text-analisys/notebooks/pretrained_models/classifier.ckpt\u001B[0m\n",
      "\u001B[36m2025-04-13 21:16:28 - speechbrain.utils.parameter_transfer - DEBUG    - Redirecting (loading from local path): label_encoder -> /Users/igorlapin/text-analisys/notebooks/pretrained_models/label_encoder.ckpt\u001B[0m\n",
      "\u001B[36m2025-04-13 21:16:28 - speechbrain.dataio.encoder - DEBUG    - Loaded categorical encoding from /Users/igorlapin/text-analisys/notebooks/pretrained_models/label_encoder.ckpt\u001B[0m\n"
     ]
    },
    {
     "name": "stderr",
     "output_type": "stream",
     "text": [
      "Device set to use mps\n"
     ]
    }
   ],
   "source": [
    "ar.run_pipeline()\n"
   ],
   "metadata": {
    "collapsed": false
   }
  },
  {
   "cell_type": "code",
   "execution_count": null,
   "id": "735e567b-c733-4f5b-924e-d48827e6281e",
   "metadata": {
    "pycharm": {
     "is_executing": true
    }
   },
   "outputs": [
    {
     "name": "stdout",
     "output_type": "stream",
     "text": [
      "\u001B[36m2025-04-13 21:17:10 - __main__ - DEBUG    - Создан Audio Analisys для Разговор-15.mp3\u001B[0m\n",
      "\u001B[36m2025-04-13 21:17:10 - ai_transcribe - DEBUG    - Создан Audio Analisys для /Users/igorlapin/Разговор-15.mp3\u001B[0m\n"
     ]
    },
    {
     "data": {
      "text/plain": "  0%|          | 0/1.0 [00:00<?, ?it/s]",
      "application/vnd.jupyter.widget-view+json": {
       "version_major": 2,
       "version_minor": 0,
       "model_id": "79908365c9db467a86740cdfa910acc2"
      }
     },
     "metadata": {},
     "output_type": "display_data"
    },
    {
     "data": {
      "text/plain": "  0%|          | 0/1.0 [00:00<?, ?it/s]",
      "application/vnd.jupyter.widget-view+json": {
       "version_major": 2,
       "version_minor": 0,
       "model_id": "911e64b6051048d0981066e067dcdb12"
      }
     },
     "metadata": {},
     "output_type": "display_data"
    },
    {
     "name": "stdout",
     "output_type": "stream",
     "text": [
      "\u001B[36m2025-04-13 21:17:10 - ai_transcribe - DEBUG    - Разговор-15.mp3 - TRANSCRIBING..\u001B[0m\n"
     ]
    }
   ],
   "source": [
    "file_paths = ['Разговор-15.mp3', 'Разговор-14.mp3', 'Разговор-13.mp3', 'Разговор-12.mp3',\n",
    "              'Разговор-11.mp3', 'Разговор-10.mp3', 'Разговор-9.mp3', 'Разговор-8.mp3',\n",
    "              'Разговор-7.mp3', 'Разговор-6.mp3', 'Разговор-20.mp3', 'Разговор-15.mp3',\n",
    "              'Разговор-15.mp3', 'Разговор-15.mp3', 'Разговор-15.mp3', 'Разговор-15.mp3',\n",
    "              'Разговор-15.mp3', 'Разговор-15.mp3', 'Разговор-15.mp3', 'Разговор-15.mp3', ]\n",
    "\n",
    "results_to_print = []\n",
    "\n",
    "\n",
    "def process_file(audio_path):\n",
    "    audio_analisys = AudioAnalysis(audio_path)\n",
    "    audio_analisys.run_pipeline()\n",
    "    logger.debug(audio_analisys.results['entities'])\n",
    "\n",
    "\n",
    "#ЗАПУСКАЕМ ОБРАБОТКУ ФАЙЛОВ\n",
    "with ThreadPoolExecutor(max_workers=1) as executor:\n",
    "    executor.map(process_file, file_paths)"
   ]
  },
  {
   "cell_type": "code",
   "execution_count": null,
   "id": "263abe7a-4145-4d5c-90e5-1564b2fbf085",
   "metadata": {},
   "outputs": [],
   "source": [
    "#ВЫВОД ИЗВЛЕЧЕННЫХ СУЩНОСТЕЙ\n",
    "for result in results_to_print:\n",
    "    res_dict = {}\n",
    "    for data in result[0]:\n",
    "        for key, value in data.items():\n",
    "            if key not in res_dict:\n",
    "                res_dict[key] = set()\n",
    "            for val in value:\n",
    "                res_dict[key].add(val)\n",
    "    print(f'Файл {result[1]}:')\n",
    "    for key, value in res_dict.items():\n",
    "        # print(f'{dict_names[key]}:')\n",
    "        for val in value:\n",
    "            print(f'  {val}')\n",
    "    print()"
   ]
  },
  {
   "cell_type": "code",
   "execution_count": null,
   "id": "8dc097d7-aa82-4a5c-b076-722155aac228",
   "metadata": {},
   "outputs": [],
   "source": []
  }
 ],
 "metadata": {
  "kernelspec": {
   "display_name": "Python 3 (ipykernel)",
   "language": "python",
   "name": "python3"
  },
  "language_info": {
   "codemirror_mode": {
    "name": "ipython",
    "version": 3
   },
   "file_extension": ".py",
   "mimetype": "text/x-python",
   "name": "python",
   "nbconvert_exporter": "python",
   "pygments_lexer": "ipython3",
   "version": "3.12.2"
  },
  "widgets": {
   "application/vnd.jupyter.widget-state+json": {
    "state": {
     "00565ea7ad6c46d3aed26456d04e927b": {
      "model_module": "@jupyter-widgets/base",
      "model_module_version": "2.0.0",
      "model_name": "LayoutModel",
      "state": {}
     },
     "00581eff390a4a56b443e300568694b5": {
      "model_module": "@jupyter-widgets/controls",
      "model_module_version": "2.0.0",
      "model_name": "ProgressStyleModel",
      "state": {
       "description_width": ""
      }
     },
     "0145ba1bdb23490a9b29cb8e8de31cfe": {
      "model_module": "@jupyter-widgets/controls",
      "model_module_version": "2.0.0",
      "model_name": "HTMLStyleModel",
      "state": {
       "description_width": "",
       "font_size": null,
       "text_color": null
      }
     },
     "0198fcf688f64997acc50938332cfe2f": {
      "model_module": "@jupyter-widgets/base",
      "model_module_version": "2.0.0",
      "model_name": "LayoutModel",
      "state": {}
     },
     "031799c5d3974a009f19f2ae1d890575": {
      "model_module": "@jupyter-widgets/base",
      "model_module_version": "2.0.0",
      "model_name": "LayoutModel",
      "state": {}
     },
     "0348e24a954945278591c8cd24d6efb4": {
      "model_module": "@jupyter-widgets/controls",
      "model_module_version": "2.0.0",
      "model_name": "FloatProgressModel",
      "state": {
       "layout": "IPY_MODEL_6b63d68e43c844efa82bad104b26637d",
       "max": 1,
       "style": "IPY_MODEL_03a9ec6730424ebd8a5d0d23982baea5",
       "value": 1
      }
     },
     "03a9ec6730424ebd8a5d0d23982baea5": {
      "model_module": "@jupyter-widgets/controls",
      "model_module_version": "2.0.0",
      "model_name": "ProgressStyleModel",
      "state": {
       "description_width": ""
      }
     },
     "03c2784976e04911b87970cc6ba17e40": {
      "model_module": "@jupyter-widgets/controls",
      "model_module_version": "2.0.0",
      "model_name": "ProgressStyleModel",
      "state": {
       "description_width": ""
      }
     },
     "044b740147fe48ee82cbbe9899bc3288": {
      "model_module": "@jupyter-widgets/controls",
      "model_module_version": "2.0.0",
      "model_name": "HTMLStyleModel",
      "state": {
       "description_width": "",
       "font_size": null,
       "text_color": null
      }
     },
     "047378398fd545e29f593aada5305877": {
      "model_module": "@jupyter-widgets/controls",
      "model_module_version": "2.0.0",
      "model_name": "HTMLModel",
      "state": {
       "layout": "IPY_MODEL_ef29960ccc194e839e93c45e9f4ccf2c",
       "style": "IPY_MODEL_bf6efd6ab524467093837d4861c587a6",
       "value": " 1.0/1.0 [05:38&lt;00:00, 338.35s/it]"
      }
     },
     "04acb6045e944ad3b694b992d7b29af6": {
      "model_module": "@jupyter-widgets/controls",
      "model_module_version": "2.0.0",
      "model_name": "HTMLModel",
      "state": {
       "layout": "IPY_MODEL_5a5107e507364da58a30757be6ff8261",
       "style": "IPY_MODEL_130e5b256607446198e925dea6e067fb",
       "value": "Done - /Users/igorlapin/Разговор-15.mp3: 100%"
      }
     },
     "04b82dbfb5dd4e27a2a34adb65c860f8": {
      "model_module": "@jupyter-widgets/base",
      "model_module_version": "2.0.0",
      "model_name": "LayoutModel",
      "state": {
       "visibility": "hidden"
      }
     },
     "05144c2d2232428a981850a1b25ac96f": {
      "model_module": "@jupyter-widgets/base",
      "model_module_version": "2.0.0",
      "model_name": "LayoutModel",
      "state": {
       "visibility": "hidden"
      }
     },
     "058994b807604dbeb188e0d238be5497": {
      "model_module": "@jupyter-widgets/base",
      "model_module_version": "2.0.0",
      "model_name": "LayoutModel",
      "state": {}
     },
     "059c4f221f2d4a9881afdcc75ab3cb6d": {
      "model_module": "@jupyter-widgets/base",
      "model_module_version": "2.0.0",
      "model_name": "LayoutModel",
      "state": {}
     },
     "0778968e2fb44f4489a7bec24ed37b6f": {
      "model_module": "@jupyter-widgets/controls",
      "model_module_version": "2.0.0",
      "model_name": "HTMLModel",
      "state": {
       "layout": "IPY_MODEL_20df409b4c2545beb3cf77fc7819be06",
       "style": "IPY_MODEL_a9669392a9dd453ba5506f49df5e595d",
       "value": " 1.0/1.0 [02:27&lt;00:00, 147.90s/it]"
      }
     },
     "079d8cdf2c1a4899806e9630793b9a55": {
      "model_module": "@jupyter-widgets/base",
      "model_module_version": "2.0.0",
      "model_name": "LayoutModel",
      "state": {
       "visibility": "hidden"
      }
     },
     "08720dde93454bf7af3fb02c439533c8": {
      "model_module": "@jupyter-widgets/controls",
      "model_module_version": "2.0.0",
      "model_name": "HTMLStyleModel",
      "state": {
       "description_width": "",
       "font_size": null,
       "text_color": null
      }
     },
     "0874563599664f2091dafc56a9b1c2c9": {
      "model_module": "@jupyter-widgets/controls",
      "model_module_version": "2.0.0",
      "model_name": "HTMLModel",
      "state": {
       "layout": "IPY_MODEL_e76b7d3ce5864cb0b37f5b8b3dc76902",
       "style": "IPY_MODEL_60463da92c86469d8c4cda7a8278e6c4",
       "value": " 1.0/1.0 [05:10&lt;00:00, 310.96s/it]"
      }
     },
     "08c7064b27554b32b895adb6e801c007": {
      "model_module": "@jupyter-widgets/controls",
      "model_module_version": "2.0.0",
      "model_name": "ProgressStyleModel",
      "state": {
       "description_width": ""
      }
     },
     "095dedee6b5f437aac76744dd79eadf9": {
      "model_module": "@jupyter-widgets/controls",
      "model_module_version": "2.0.0",
      "model_name": "HTMLStyleModel",
      "state": {
       "description_width": "",
       "font_size": null,
       "text_color": null
      }
     },
     "0a17a981c15648fb8e7b0e874635ba3b": {
      "model_module": "@jupyter-widgets/controls",
      "model_module_version": "2.0.0",
      "model_name": "HBoxModel",
      "state": {
       "children": [
        "IPY_MODEL_e18be2844ca44293a5b7e79ff5ddf66c",
        "IPY_MODEL_ebf8e40906a9405eb27c12a861934b5c",
        "IPY_MODEL_9bb3f2658885476a9738aceccb9e49cd"
       ],
       "layout": "IPY_MODEL_67654d8d86b249679af9dc12a0955d03"
      }
     },
     "0c6204f29a7b4253944c23c75d780c5a": {
      "model_module": "@jupyter-widgets/controls",
      "model_module_version": "2.0.0",
      "model_name": "HTMLStyleModel",
      "state": {
       "description_width": "",
       "font_size": null,
       "text_color": null
      }
     },
     "0d4fef4d8ecb4cd6a5ce4acbdfcbe929": {
      "model_module": "@jupyter-widgets/base",
      "model_module_version": "2.0.0",
      "model_name": "LayoutModel",
      "state": {}
     },
     "0debafe8a6ed41819e201594c33be6d3": {
      "model_module": "@jupyter-widgets/controls",
      "model_module_version": "2.0.0",
      "model_name": "HTMLModel",
      "state": {
       "layout": "IPY_MODEL_7028767d00f64474bcb0d2a881cfcc5e",
       "style": "IPY_MODEL_581d32eb83fd4837a2964e3db6e2f334",
       "value": "Done - /Users/igorlapin/Разговор-15.mp3: 100%"
      }
     },
     "0f9d97f052554611b9f614f502864147": {
      "model_module": "@jupyter-widgets/base",
      "model_module_version": "2.0.0",
      "model_name": "LayoutModel",
      "state": {}
     },
     "10788b40e02e45a9bf0e862886349c8d": {
      "model_module": "@jupyter-widgets/controls",
      "model_module_version": "2.0.0",
      "model_name": "HTMLStyleModel",
      "state": {
       "description_width": "",
       "font_size": null,
       "text_color": null
      }
     },
     "10a15a41af5b43d1b297ce42c815affb": {
      "model_module": "@jupyter-widgets/controls",
      "model_module_version": "2.0.0",
      "model_name": "HTMLStyleModel",
      "state": {
       "description_width": "",
       "font_size": null,
       "text_color": null
      }
     },
     "11af0eb12ac74165a53bcd3a2b2a2747": {
      "model_module": "@jupyter-widgets/base",
      "model_module_version": "2.0.0",
      "model_name": "LayoutModel",
      "state": {}
     },
     "11e4e5e41aff4d3d9e8f07688b1e3c51": {
      "model_module": "@jupyter-widgets/base",
      "model_module_version": "2.0.0",
      "model_name": "LayoutModel",
      "state": {}
     },
     "128e89244ff74effa395f195cd902307": {
      "model_module": "@jupyter-widgets/base",
      "model_module_version": "2.0.0",
      "model_name": "LayoutModel",
      "state": {}
     },
     "13070ff6171640138062d8d138581469": {
      "model_module": "@jupyter-widgets/controls",
      "model_module_version": "2.0.0",
      "model_name": "HTMLModel",
      "state": {
       "layout": "IPY_MODEL_c253cd1888cf42e4898c4db831607872",
       "style": "IPY_MODEL_599632f4269c4c7aa094ae8404f8e7bd",
       "value": " 1.0/1.0 [03:31&lt;00:00, 211.01s/it]"
      }
     },
     "130e5b256607446198e925dea6e067fb": {
      "model_module": "@jupyter-widgets/controls",
      "model_module_version": "2.0.0",
      "model_name": "HTMLStyleModel",
      "state": {
       "description_width": "",
       "font_size": null,
       "text_color": null
      }
     },
     "14086ca207c44d9a8d763ef89f38e9a1": {
      "model_module": "@jupyter-widgets/controls",
      "model_module_version": "2.0.0",
      "model_name": "ProgressStyleModel",
      "state": {
       "description_width": ""
      }
     },
     "14a6ed36bea745c1a9686a9a9033c7c1": {
      "model_module": "@jupyter-widgets/base",
      "model_module_version": "2.0.0",
      "model_name": "LayoutModel",
      "state": {}
     },
     "1502f33ae8a14c1c87bb593e7923d9df": {
      "model_module": "@jupyter-widgets/controls",
      "model_module_version": "2.0.0",
      "model_name": "HTMLModel",
      "state": {
       "layout": "IPY_MODEL_29fd0af9633d4e3fa3b6a4fc2295acae",
       "style": "IPY_MODEL_774a78fd89184c4583bde63c46c23866",
       "value": " 1.0/1.0 [05:38&lt;00:00, 338.54s/it]"
      }
     },
     "1536b9f1d33746b5b67961f5daca2cc9": {
      "model_module": "@jupyter-widgets/controls",
      "model_module_version": "2.0.0",
      "model_name": "FloatProgressModel",
      "state": {
       "layout": "IPY_MODEL_4646524f973d481590d315681aa07e25",
       "max": 1,
       "style": "IPY_MODEL_dd5cc5e1ea824edbb867fa02ca0fa5a4",
       "value": 1
      }
     },
     "1716149dae51449a83e767f1793e372f": {
      "model_module": "@jupyter-widgets/controls",
      "model_module_version": "2.0.0",
      "model_name": "HTMLStyleModel",
      "state": {
       "description_width": "",
       "font_size": null,
       "text_color": null
      }
     },
     "172c9c09e53a43b8b724fc5f8e754ca7": {
      "model_module": "@jupyter-widgets/controls",
      "model_module_version": "2.0.0",
      "model_name": "ProgressStyleModel",
      "state": {
       "description_width": ""
      }
     },
     "17e3fa2812774338bee2f2c56ed82243": {
      "model_module": "@jupyter-widgets/base",
      "model_module_version": "2.0.0",
      "model_name": "LayoutModel",
      "state": {
       "visibility": "hidden"
      }
     },
     "191193c02a424a438485d54e4568008b": {
      "model_module": "@jupyter-widgets/controls",
      "model_module_version": "2.0.0",
      "model_name": "HTMLStyleModel",
      "state": {
       "description_width": "",
       "font_size": null,
       "text_color": null
      }
     },
     "19b73b1f6f5b47b19efcaed0676c57b2": {
      "model_module": "@jupyter-widgets/controls",
      "model_module_version": "2.0.0",
      "model_name": "HTMLStyleModel",
      "state": {
       "description_width": "",
       "font_size": null,
       "text_color": null
      }
     },
     "1a508604701746d39b5fc2174b64fbba": {
      "model_module": "@jupyter-widgets/base",
      "model_module_version": "2.0.0",
      "model_name": "LayoutModel",
      "state": {}
     },
     "1abdd76cdd724d6181f7da9308c29a1a": {
      "model_module": "@jupyter-widgets/controls",
      "model_module_version": "2.0.0",
      "model_name": "HTMLModel",
      "state": {
       "layout": "IPY_MODEL_ac40b310c5c743149ae1401d12fc07b7",
       "style": "IPY_MODEL_0145ba1bdb23490a9b29cb8e8de31cfe",
       "value": " 1.0/1.0 [04:44&lt;00:00, 284.69s/it]"
      }
     },
     "1cfbc7aceb684cad9c45831f09e1c448": {
      "model_module": "@jupyter-widgets/controls",
      "model_module_version": "2.0.0",
      "model_name": "HBoxModel",
      "state": {
       "children": [
        "IPY_MODEL_6c3c09719ce945baa5a7431818d03357",
        "IPY_MODEL_6c5efe6dad284fd3ba46e519ef795530",
        "IPY_MODEL_3e7df58e3994449fb517593d1f560567"
       ],
       "layout": "IPY_MODEL_b4638fb2f13343699454bad7e7d90521"
      }
     },
     "1dc457fb330048d78b672a88f2fface3": {
      "model_module": "@jupyter-widgets/controls",
      "model_module_version": "2.0.0",
      "model_name": "FloatProgressModel",
      "state": {
       "layout": "IPY_MODEL_d12a14df9ee64f79ac86ea95da650ae8",
       "max": 1,
       "style": "IPY_MODEL_f4980ae5847449ee9ec229c9fab8b948",
       "value": 1
      }
     },
     "20df409b4c2545beb3cf77fc7819be06": {
      "model_module": "@jupyter-widgets/base",
      "model_module_version": "2.0.0",
      "model_name": "LayoutModel",
      "state": {}
     },
     "210fe8f1c43044a0ae988f8def22665f": {
      "model_module": "@jupyter-widgets/base",
      "model_module_version": "2.0.0",
      "model_name": "LayoutModel",
      "state": {}
     },
     "220b6b42bc004fa0891b8a59816ba935": {
      "model_module": "@jupyter-widgets/controls",
      "model_module_version": "2.0.0",
      "model_name": "ProgressStyleModel",
      "state": {
       "description_width": ""
      }
     },
     "2222392a2ea94f32b21bb2eca0a69e7f": {
      "model_module": "@jupyter-widgets/controls",
      "model_module_version": "2.0.0",
      "model_name": "HTMLStyleModel",
      "state": {
       "description_width": "",
       "font_size": null,
       "text_color": null
      }
     },
     "22237ad3b4a64211a624f2391bd06587": {
      "model_module": "@jupyter-widgets/base",
      "model_module_version": "2.0.0",
      "model_name": "LayoutModel",
      "state": {}
     },
     "22a98657105d4158a28cf6305a936566": {
      "model_module": "@jupyter-widgets/controls",
      "model_module_version": "2.0.0",
      "model_name": "HTMLModel",
      "state": {
       "layout": "IPY_MODEL_9281047b9ce947c2b599d68a881e4fc5",
       "style": "IPY_MODEL_08720dde93454bf7af3fb02c439533c8",
       "value": " 1.0/1.0 [05:23&lt;00:00, 323.76s/it]"
      }
     },
     "241aadc2decb4d38bb545e8593db46a5": {
      "model_module": "@jupyter-widgets/base",
      "model_module_version": "2.0.0",
      "model_name": "LayoutModel",
      "state": {}
     },
     "245ed800f0444d7b872db2fb8f42fc9b": {
      "model_module": "@jupyter-widgets/controls",
      "model_module_version": "2.0.0",
      "model_name": "ProgressStyleModel",
      "state": {
       "description_width": ""
      }
     },
     "249ad344561e49949d8c337d1094bd5c": {
      "model_module": "@jupyter-widgets/base",
      "model_module_version": "2.0.0",
      "model_name": "LayoutModel",
      "state": {}
     },
     "24a91d64b82b455a8ed6360e9db1afbd": {
      "model_module": "@jupyter-widgets/controls",
      "model_module_version": "2.0.0",
      "model_name": "HTMLModel",
      "state": {
       "layout": "IPY_MODEL_11e4e5e41aff4d3d9e8f07688b1e3c51",
       "style": "IPY_MODEL_dab11806f0bb4b0d93d8db91a5460034",
       "value": " 1.0/1.0 [03:04&lt;00:00, 184.17s/it]"
      }
     },
     "24aeb3dbf9f14fdc91eadceb89cd4658": {
      "model_module": "@jupyter-widgets/controls",
      "model_module_version": "2.0.0",
      "model_name": "HTMLStyleModel",
      "state": {
       "description_width": "",
       "font_size": null,
       "text_color": null
      }
     },
     "2676bf2aadf446ef82f69660622fc0a2": {
      "model_module": "@jupyter-widgets/base",
      "model_module_version": "2.0.0",
      "model_name": "LayoutModel",
      "state": {}
     },
     "27344ff973a744649225efaefbdf7927": {
      "model_module": "@jupyter-widgets/controls",
      "model_module_version": "2.0.0",
      "model_name": "HTMLModel",
      "state": {
       "layout": "IPY_MODEL_a5a2b01e8c1a490ab6ed245c51657c52",
       "style": "IPY_MODEL_e4f0781134a7412ba89e75d0c654337e",
       "value": " 1.0/1.0 [04:44&lt;00:00, 284.43s/it]"
      }
     },
     "278bb231c5364fb1868731748de5ed3e": {
      "model_module": "@jupyter-widgets/controls",
      "model_module_version": "2.0.0",
      "model_name": "HTMLModel",
      "state": {
       "layout": "IPY_MODEL_031799c5d3974a009f19f2ae1d890575",
       "style": "IPY_MODEL_59eb1ff212214e71bd15868dee1bc1a4",
       "value": "Done - /Users/igorlapin/Разговор-14.mp3: 100%"
      }
     },
     "27ba0f5355c84181a7c972d3feca092d": {
      "model_module": "@jupyter-widgets/base",
      "model_module_version": "2.0.0",
      "model_name": "LayoutModel",
      "state": {}
     },
     "294dc0604eee4509b8d81c8adf712586": {
      "model_module": "@jupyter-widgets/controls",
      "model_module_version": "2.0.0",
      "model_name": "HTMLModel",
      "state": {
       "layout": "IPY_MODEL_5f1afb5de7b24d02989894a9df100221",
       "style": "IPY_MODEL_9a6f16eab2d143cdac2a121e30ba1f4d",
       "value": " 1.0/1.0 [05:10&lt;00:00, 310.81s/it]"
      }
     },
     "2968794fee314cef8ece87eb95f5c977": {
      "model_module": "@jupyter-widgets/base",
      "model_module_version": "2.0.0",
      "model_name": "LayoutModel",
      "state": {}
     },
     "29821bd8585247ba83bc574d83f1e697": {
      "model_module": "@jupyter-widgets/controls",
      "model_module_version": "2.0.0",
      "model_name": "HTMLModel",
      "state": {
       "layout": "IPY_MODEL_347279cfe49448d5b494fcd5a03d52e8",
       "style": "IPY_MODEL_10788b40e02e45a9bf0e862886349c8d",
       "value": " 1.0/1.0 [02:04&lt;00:00, 124.73s/it]"
      }
     },
     "29d41aa885a447729350ad41ac4b3047": {
      "model_module": "@jupyter-widgets/controls",
      "model_module_version": "2.0.0",
      "model_name": "FloatProgressModel",
      "state": {
       "layout": "IPY_MODEL_911a5ee0238b4c89967f34a4048cda5f",
       "max": 1,
       "style": "IPY_MODEL_d5bce1ec2c914d1487122f489956c376",
       "value": 1
      }
     },
     "29f8c10f6664435cae325ca66f8a346b": {
      "model_module": "@jupyter-widgets/controls",
      "model_module_version": "2.0.0",
      "model_name": "HBoxModel",
      "state": {
       "children": [
        "IPY_MODEL_0debafe8a6ed41819e201594c33be6d3",
        "IPY_MODEL_307ef96f30fa46b5a9428871acced1a0",
        "IPY_MODEL_294dc0604eee4509b8d81c8adf712586"
       ],
       "layout": "IPY_MODEL_58db1ef2614f4494a31049e055db7332"
      }
     },
     "29fb63b4579d4702820384a7a50af294": {
      "model_module": "@jupyter-widgets/controls",
      "model_module_version": "2.0.0",
      "model_name": "ProgressStyleModel",
      "state": {
       "description_width": ""
      }
     },
     "29fd0af9633d4e3fa3b6a4fc2295acae": {
      "model_module": "@jupyter-widgets/base",
      "model_module_version": "2.0.0",
      "model_name": "LayoutModel",
      "state": {}
     },
     "2ab1cf9fc8ba455cbc9c0de32781508d": {
      "model_module": "@jupyter-widgets/controls",
      "model_module_version": "2.0.0",
      "model_name": "ProgressStyleModel",
      "state": {
       "description_width": ""
      }
     },
     "2c2716c974144c858d707e7fc387dc11": {
      "model_module": "@jupyter-widgets/controls",
      "model_module_version": "2.0.0",
      "model_name": "HTMLModel",
      "state": {
       "layout": "IPY_MODEL_50fe7ed1930f4acea324c6c724678c31",
       "style": "IPY_MODEL_4c1ca3ef271846caab3721f5b7b77363",
       "value": " 1.0/1.0 [05:24&lt;00:00, 324.57s/it]"
      }
     },
     "2c6077e6c7184c308b00894a0ec44376": {
      "model_module": "@jupyter-widgets/controls",
      "model_module_version": "2.0.0",
      "model_name": "ProgressStyleModel",
      "state": {
       "description_width": ""
      }
     },
     "2c700bc49a534b7fbc09bf2959c22539": {
      "model_module": "@jupyter-widgets/base",
      "model_module_version": "2.0.0",
      "model_name": "LayoutModel",
      "state": {
       "visibility": "hidden"
      }
     },
     "2c9cea483b734504a7b5332a95192d33": {
      "model_module": "@jupyter-widgets/controls",
      "model_module_version": "2.0.0",
      "model_name": "HTMLStyleModel",
      "state": {
       "description_width": "",
       "font_size": null,
       "text_color": null
      }
     },
     "2cc80cb8a573460081b1c2e1a134802f": {
      "model_module": "@jupyter-widgets/controls",
      "model_module_version": "2.0.0",
      "model_name": "HTMLModel",
      "state": {
       "layout": "IPY_MODEL_7d47e79283024caa97fefb383019ea19",
       "style": "IPY_MODEL_48c586287e1d495a96421086d3bbb1fc",
       "value": " 1.0/1.0 [00:52&lt;00:00, 52.78s/it]"
      }
     },
     "2cded27711b04551aaec3a96efb0b0e2": {
      "model_module": "@jupyter-widgets/controls",
      "model_module_version": "2.0.0",
      "model_name": "HTMLStyleModel",
      "state": {
       "description_width": "",
       "font_size": null,
       "text_color": null
      }
     },
     "2e931e45016343a1a1affb718b700917": {
      "model_module": "@jupyter-widgets/base",
      "model_module_version": "2.0.0",
      "model_name": "LayoutModel",
      "state": {}
     },
     "307ef96f30fa46b5a9428871acced1a0": {
      "model_module": "@jupyter-widgets/controls",
      "model_module_version": "2.0.0",
      "model_name": "FloatProgressModel",
      "state": {
       "layout": "IPY_MODEL_058994b807604dbeb188e0d238be5497",
       "max": 1,
       "style": "IPY_MODEL_366b3db411d4441392baa4141ba77f73",
       "value": 1
      }
     },
     "31e30d9df2614f8d80d84fea9f616828": {
      "model_module": "@jupyter-widgets/base",
      "model_module_version": "2.0.0",
      "model_name": "LayoutModel",
      "state": {}
     },
     "31e40865cb9b40d3b2e0cbf0c3cfae56": {
      "model_module": "@jupyter-widgets/controls",
      "model_module_version": "2.0.0",
      "model_name": "HTMLStyleModel",
      "state": {
       "description_width": "",
       "font_size": null,
       "text_color": null
      }
     },
     "3218dbdfd4da41248c4de095ceb48f71": {
      "model_module": "@jupyter-widgets/controls",
      "model_module_version": "2.0.0",
      "model_name": "ProgressStyleModel",
      "state": {
       "description_width": ""
      }
     },
     "325b90d8de844ac292b85f2b052f61b1": {
      "model_module": "@jupyter-widgets/base",
      "model_module_version": "2.0.0",
      "model_name": "LayoutModel",
      "state": {}
     },
     "328b4216cdd44bcbb1890b1698b1f679": {
      "model_module": "@jupyter-widgets/controls",
      "model_module_version": "2.0.0",
      "model_name": "FloatProgressModel",
      "state": {
       "layout": "IPY_MODEL_059c4f221f2d4a9881afdcc75ab3cb6d",
       "max": 1,
       "style": "IPY_MODEL_835b6715799f4713bf7aa4fd796f23b4",
       "value": 1
      }
     },
     "32f1e0a8f2164684bb7e5d8030a8572d": {
      "model_module": "@jupyter-widgets/base",
      "model_module_version": "2.0.0",
      "model_name": "LayoutModel",
      "state": {}
     },
     "331d407a2fef40a5a0fec20fa2677773": {
      "model_module": "@jupyter-widgets/controls",
      "model_module_version": "2.0.0",
      "model_name": "FloatProgressModel",
      "state": {
       "layout": "IPY_MODEL_96fd0f624af5425994cebd2180176c6b",
       "max": 1,
       "style": "IPY_MODEL_172c9c09e53a43b8b724fc5f8e754ca7",
       "value": 1
      }
     },
     "33a909165a64405992be2da09bca0e1f": {
      "model_module": "@jupyter-widgets/base",
      "model_module_version": "2.0.0",
      "model_name": "LayoutModel",
      "state": {
       "visibility": "hidden"
      }
     },
     "3403058b56684d729f85c3fae73e89dd": {
      "model_module": "@jupyter-widgets/controls",
      "model_module_version": "2.0.0",
      "model_name": "HTMLModel",
      "state": {
       "layout": "IPY_MODEL_bea996fee1f04e4b82aaf685ca43d679",
       "style": "IPY_MODEL_cf4a23cfe46041058b04cbdf6623b7a2",
       "value": " 1.0/1.0 [03:05&lt;00:00, 185.10s/it]"
      }
     },
     "342062c7b6eb464abb92739084d95f27": {
      "model_module": "@jupyter-widgets/base",
      "model_module_version": "2.0.0",
      "model_name": "LayoutModel",
      "state": {}
     },
     "347279cfe49448d5b494fcd5a03d52e8": {
      "model_module": "@jupyter-widgets/base",
      "model_module_version": "2.0.0",
      "model_name": "LayoutModel",
      "state": {}
     },
     "34ab48e2a8de490b927e055633bbd04b": {
      "model_module": "@jupyter-widgets/controls",
      "model_module_version": "2.0.0",
      "model_name": "HTMLStyleModel",
      "state": {
       "description_width": "",
       "font_size": null,
       "text_color": null
      }
     },
     "34df5fdc1a0a407d88fd6b44085d8d56": {
      "model_module": "@jupyter-widgets/base",
      "model_module_version": "2.0.0",
      "model_name": "LayoutModel",
      "state": {}
     },
     "358a1becc4d1405aaa7e9c8f2e07a88a": {
      "model_module": "@jupyter-widgets/base",
      "model_module_version": "2.0.0",
      "model_name": "LayoutModel",
      "state": {}
     },
     "3655a8db83bd42b8be65e9b79169909f": {
      "model_module": "@jupyter-widgets/controls",
      "model_module_version": "2.0.0",
      "model_name": "ProgressStyleModel",
      "state": {
       "description_width": ""
      }
     },
     "366b3db411d4441392baa4141ba77f73": {
      "model_module": "@jupyter-widgets/controls",
      "model_module_version": "2.0.0",
      "model_name": "ProgressStyleModel",
      "state": {
       "description_width": ""
      }
     },
     "37673cdebf42415da9f27efdcc1d584d": {
      "model_module": "@jupyter-widgets/base",
      "model_module_version": "2.0.0",
      "model_name": "LayoutModel",
      "state": {}
     },
     "386a9af512314900aaa67734c31f1d07": {
      "model_module": "@jupyter-widgets/controls",
      "model_module_version": "2.0.0",
      "model_name": "HTMLModel",
      "state": {
       "layout": "IPY_MODEL_41527f92c1544a89aec963affd42f87d",
       "style": "IPY_MODEL_b978c3b470ce43f28a0ced2bb40bf697",
       "value": "Done - /Users/igorlapin/Разговор-13.mp3: 100%"
      }
     },
     "396d997e3e594acca754e92b7f97335c": {
      "model_module": "@jupyter-widgets/base",
      "model_module_version": "2.0.0",
      "model_name": "LayoutModel",
      "state": {}
     },
     "39dce66ee64640828f33f79b468bad1a": {
      "model_module": "@jupyter-widgets/controls",
      "model_module_version": "2.0.0",
      "model_name": "HTMLStyleModel",
      "state": {
       "description_width": "",
       "font_size": null,
       "text_color": null
      }
     },
     "39e7b650d3be4a3f9ae79af339614c18": {
      "model_module": "@jupyter-widgets/base",
      "model_module_version": "2.0.0",
      "model_name": "LayoutModel",
      "state": {}
     },
     "3bafebf18a274b10b46ac989357bf319": {
      "model_module": "@jupyter-widgets/controls",
      "model_module_version": "2.0.0",
      "model_name": "FloatProgressModel",
      "state": {
       "layout": "IPY_MODEL_a8a19fdde9fa4c7693d41141b7804568",
       "max": 1,
       "style": "IPY_MODEL_6f05cadd8f924865afa89758174d6bf2",
       "value": 1
      }
     },
     "3bd1339411f546919abefb94e52f0f52": {
      "model_module": "@jupyter-widgets/base",
      "model_module_version": "2.0.0",
      "model_name": "LayoutModel",
      "state": {}
     },
     "3c5e91c2d2b94e6db986784739960f20": {
      "model_module": "@jupyter-widgets/controls",
      "model_module_version": "2.0.0",
      "model_name": "HBoxModel",
      "state": {
       "children": [
        "IPY_MODEL_4684c427e1a049a190f9103bb3916e30",
        "IPY_MODEL_b2e2bf20ab5240c186a6337dc824ab74",
        "IPY_MODEL_0874563599664f2091dafc56a9b1c2c9"
       ],
       "layout": "IPY_MODEL_f03e9e88464a4362a3144d4e8aa9f846"
      }
     },
     "3c92d92905c04807b316363083f34c5b": {
      "model_module": "@jupyter-widgets/controls",
      "model_module_version": "2.0.0",
      "model_name": "HTMLStyleModel",
      "state": {
       "description_width": "",
       "font_size": null,
       "text_color": null
      }
     },
     "3c94e10f884e415191e8ef8f9d727733": {
      "model_module": "@jupyter-widgets/controls",
      "model_module_version": "2.0.0",
      "model_name": "HTMLStyleModel",
      "state": {
       "description_width": "",
       "font_size": null,
       "text_color": null
      }
     },
     "3cebc5d43507460cb57484b50b97da49": {
      "model_module": "@jupyter-widgets/controls",
      "model_module_version": "2.0.0",
      "model_name": "HTMLStyleModel",
      "state": {
       "description_width": "",
       "font_size": null,
       "text_color": null
      }
     },
     "3cefaf4223f74d5c85cde91293dd3c11": {
      "model_module": "@jupyter-widgets/controls",
      "model_module_version": "2.0.0",
      "model_name": "HTMLModel",
      "state": {
       "layout": "IPY_MODEL_e83b6ff4bf61477190b8411d9a107956",
       "style": "IPY_MODEL_960ae67101e544419f8ab9340593923c",
       "value": "Done - /Users/igorlapin/Разговор-10.mp3: 100%"
      }
     },
     "3dc8d95794a34dffb09f41c4ff22a6dc": {
      "model_module": "@jupyter-widgets/controls",
      "model_module_version": "2.0.0",
      "model_name": "HTMLStyleModel",
      "state": {
       "description_width": "",
       "font_size": null,
       "text_color": null
      }
     },
     "3e7df58e3994449fb517593d1f560567": {
      "model_module": "@jupyter-widgets/controls",
      "model_module_version": "2.0.0",
      "model_name": "HTMLModel",
      "state": {
       "layout": "IPY_MODEL_f1559f4e885e4b7483e2c35c89de9908",
       "style": "IPY_MODEL_c27651e2f38846a7a07094f13369d320",
       "value": " 1.0/1.0 [02:56&lt;00:00, 176.10s/it]"
      }
     },
     "3f7ea9d6865d4f659ed8375f96846a05": {
      "model_module": "@jupyter-widgets/controls",
      "model_module_version": "2.0.0",
      "model_name": "ProgressStyleModel",
      "state": {
       "description_width": ""
      }
     },
     "41527f92c1544a89aec963affd42f87d": {
      "model_module": "@jupyter-widgets/base",
      "model_module_version": "2.0.0",
      "model_name": "LayoutModel",
      "state": {}
     },
     "4185ea1a54184dfea85dca72ec2f16df": {
      "model_module": "@jupyter-widgets/base",
      "model_module_version": "2.0.0",
      "model_name": "LayoutModel",
      "state": {}
     },
     "426335108c164a8ba7ab03503e3b4ffd": {
      "model_module": "@jupyter-widgets/controls",
      "model_module_version": "2.0.0",
      "model_name": "HTMLModel",
      "state": {
       "layout": "IPY_MODEL_9a694cf7a78e49509c322b8c67266d7a",
       "style": "IPY_MODEL_095dedee6b5f437aac76744dd79eadf9",
       "value": "Done - /Users/igorlapin/Разговор-15.mp3: 100%"
      }
     },
     "426e349b875f4c35b9f3c548b6fc9015": {
      "model_module": "@jupyter-widgets/controls",
      "model_module_version": "2.0.0",
      "model_name": "FloatProgressModel",
      "state": {
       "layout": "IPY_MODEL_4185ea1a54184dfea85dca72ec2f16df",
       "max": 1,
       "style": "IPY_MODEL_9b83be0a52bf454fba8e103580a51e69",
       "value": 1
      }
     },
     "435e479e1ac14fbab85d4a4ddd85312c": {
      "model_module": "@jupyter-widgets/controls",
      "model_module_version": "2.0.0",
      "model_name": "FloatProgressModel",
      "state": {
       "layout": "IPY_MODEL_7b9beb47af7247b2bdb74c0527cd2ec5",
       "max": 1,
       "style": "IPY_MODEL_6b345d3ee1c34b75bf7128a8f0d60e53",
       "value": 1
      }
     },
     "43672a20878144a5bcd3e15cf7ddf064": {
      "model_module": "@jupyter-widgets/controls",
      "model_module_version": "2.0.0",
      "model_name": "ProgressStyleModel",
      "state": {
       "description_width": ""
      }
     },
     "436794f5973a402e9297d53b228b253e": {
      "model_module": "@jupyter-widgets/base",
      "model_module_version": "2.0.0",
      "model_name": "LayoutModel",
      "state": {}
     },
     "43db71fc613e4511af3a50ba3a8743f8": {
      "model_module": "@jupyter-widgets/controls",
      "model_module_version": "2.0.0",
      "model_name": "HTMLModel",
      "state": {
       "layout": "IPY_MODEL_5e0a7770c4bb4107840335c34a61acab",
       "style": "IPY_MODEL_f01a00bb8ddb402c8f8ac64ef8ca2799",
       "value": "Done - /Users/igorlapin/Разговор-15.mp3: 100%"
      }
     },
     "43eadc736b71424eb6e7a1e4df582bf3": {
      "model_module": "@jupyter-widgets/base",
      "model_module_version": "2.0.0",
      "model_name": "LayoutModel",
      "state": {}
     },
     "450c9c16639d468aaa2e5cb6962d9ec8": {
      "model_module": "@jupyter-widgets/controls",
      "model_module_version": "2.0.0",
      "model_name": "HTMLStyleModel",
      "state": {
       "description_width": "",
       "font_size": null,
       "text_color": null
      }
     },
     "45769ebb8a79401e883c248d96d6634e": {
      "model_module": "@jupyter-widgets/base",
      "model_module_version": "2.0.0",
      "model_name": "LayoutModel",
      "state": {}
     },
     "45c797d5c61e47e79efebbc9b7db2efa": {
      "model_module": "@jupyter-widgets/base",
      "model_module_version": "2.0.0",
      "model_name": "LayoutModel",
      "state": {}
     },
     "45ede1604e7c4d4e886a9b84a695c308": {
      "model_module": "@jupyter-widgets/base",
      "model_module_version": "2.0.0",
      "model_name": "LayoutModel",
      "state": {}
     },
     "4646524f973d481590d315681aa07e25": {
      "model_module": "@jupyter-widgets/base",
      "model_module_version": "2.0.0",
      "model_name": "LayoutModel",
      "state": {}
     },
     "4684c427e1a049a190f9103bb3916e30": {
      "model_module": "@jupyter-widgets/controls",
      "model_module_version": "2.0.0",
      "model_name": "HTMLModel",
      "state": {
       "layout": "IPY_MODEL_22237ad3b4a64211a624f2391bd06587",
       "style": "IPY_MODEL_4f5915d346234c91abea7f7a8d539368",
       "value": "Done - /Users/igorlapin/Разговор-15.mp3: 100%"
      }
     },
     "46eb6aca22054bdeadc57175ab702385": {
      "model_module": "@jupyter-widgets/controls",
      "model_module_version": "2.0.0",
      "model_name": "HTMLStyleModel",
      "state": {
       "description_width": "",
       "font_size": null,
       "text_color": null
      }
     },
     "4736bb9ea7904481b2825c0287adba46": {
      "model_module": "@jupyter-widgets/controls",
      "model_module_version": "2.0.0",
      "model_name": "HTMLStyleModel",
      "state": {
       "description_width": "",
       "font_size": null,
       "text_color": null
      }
     },
     "47da73b844c147968c7a6d7c24d5de11": {
      "model_module": "@jupyter-widgets/controls",
      "model_module_version": "2.0.0",
      "model_name": "ProgressStyleModel",
      "state": {
       "description_width": ""
      }
     },
     "482a40c900954f3a9854d62dd6a5dfc5": {
      "model_module": "@jupyter-widgets/controls",
      "model_module_version": "2.0.0",
      "model_name": "ProgressStyleModel",
      "state": {
       "description_width": ""
      }
     },
     "48c586287e1d495a96421086d3bbb1fc": {
      "model_module": "@jupyter-widgets/controls",
      "model_module_version": "2.0.0",
      "model_name": "HTMLStyleModel",
      "state": {
       "description_width": "",
       "font_size": null,
       "text_color": null
      }
     },
     "499f4a2c788c40e2a7ba86b83ee3d31b": {
      "model_module": "@jupyter-widgets/controls",
      "model_module_version": "2.0.0",
      "model_name": "HTMLModel",
      "state": {
       "layout": "IPY_MODEL_436794f5973a402e9297d53b228b253e",
       "style": "IPY_MODEL_10a15a41af5b43d1b297ce42c815affb",
       "value": "Done - /Users/igorlapin/Разговор-15.mp3: 100%"
      }
     },
     "4aebd31dac6b4c7784abb0dfc2d07df5": {
      "model_module": "@jupyter-widgets/controls",
      "model_module_version": "2.0.0",
      "model_name": "ProgressStyleModel",
      "state": {
       "description_width": ""
      }
     },
     "4b0cfbb3171b4bc1a46af1dbe773626c": {
      "model_module": "@jupyter-widgets/controls",
      "model_module_version": "2.0.0",
      "model_name": "HTMLStyleModel",
      "state": {
       "description_width": "",
       "font_size": null,
       "text_color": null
      }
     },
     "4c0dae750cc84f149b3c0e9b0bd52ae9": {
      "model_module": "@jupyter-widgets/base",
      "model_module_version": "2.0.0",
      "model_name": "LayoutModel",
      "state": {
       "visibility": "hidden"
      }
     },
     "4c1ca3ef271846caab3721f5b7b77363": {
      "model_module": "@jupyter-widgets/controls",
      "model_module_version": "2.0.0",
      "model_name": "HTMLStyleModel",
      "state": {
       "description_width": "",
       "font_size": null,
       "text_color": null
      }
     },
     "4cb240812ce74cbc808e6610cfc6099d": {
      "model_module": "@jupyter-widgets/controls",
      "model_module_version": "2.0.0",
      "model_name": "FloatProgressModel",
      "state": {
       "layout": "IPY_MODEL_e1199f2a8af84592bd9ac9bae66931a1",
       "max": 1,
       "style": "IPY_MODEL_9510d8b6d3ea4756b8bfe70a2b386176",
       "value": 1
      }
     },
     "4e127cd7221c463fa3df7db6a91d03b7": {
      "model_module": "@jupyter-widgets/controls",
      "model_module_version": "2.0.0",
      "model_name": "HTMLStyleModel",
      "state": {
       "description_width": "",
       "font_size": null,
       "text_color": null
      }
     },
     "4f5915d346234c91abea7f7a8d539368": {
      "model_module": "@jupyter-widgets/controls",
      "model_module_version": "2.0.0",
      "model_name": "HTMLStyleModel",
      "state": {
       "description_width": "",
       "font_size": null,
       "text_color": null
      }
     },
     "50ced2db12b94175bd90c805cbaf3d7c": {
      "model_module": "@jupyter-widgets/base",
      "model_module_version": "2.0.0",
      "model_name": "LayoutModel",
      "state": {}
     },
     "50fe7ed1930f4acea324c6c724678c31": {
      "model_module": "@jupyter-widgets/base",
      "model_module_version": "2.0.0",
      "model_name": "LayoutModel",
      "state": {}
     },
     "51f8e3422078438395772f62e48b07f8": {
      "model_module": "@jupyter-widgets/base",
      "model_module_version": "2.0.0",
      "model_name": "LayoutModel",
      "state": {}
     },
     "53d0d9ba62924fff92d07c53460ced90": {
      "model_module": "@jupyter-widgets/base",
      "model_module_version": "2.0.0",
      "model_name": "LayoutModel",
      "state": {}
     },
     "53e067b923cd4d1ab71460a380c8e0f4": {
      "model_module": "@jupyter-widgets/controls",
      "model_module_version": "2.0.0",
      "model_name": "HTMLStyleModel",
      "state": {
       "description_width": "",
       "font_size": null,
       "text_color": null
      }
     },
     "552ef699fc37444e870d0c65f514d56c": {
      "model_module": "@jupyter-widgets/base",
      "model_module_version": "2.0.0",
      "model_name": "LayoutModel",
      "state": {}
     },
     "55741514d2f345ab8ac452c8e2786bad": {
      "model_module": "@jupyter-widgets/controls",
      "model_module_version": "2.0.0",
      "model_name": "HTMLModel",
      "state": {
       "layout": "IPY_MODEL_afa478ad65a647d2b7e0412526a5a14b",
       "style": "IPY_MODEL_7c8eda9665d841068f3780062db8e9f1",
       "value": " 1.0/1.0 [04:34&lt;00:00, 274.53s/it]"
      }
     },
     "581d32eb83fd4837a2964e3db6e2f334": {
      "model_module": "@jupyter-widgets/controls",
      "model_module_version": "2.0.0",
      "model_name": "HTMLStyleModel",
      "state": {
       "description_width": "",
       "font_size": null,
       "text_color": null
      }
     },
     "589ddb69c22c4b998d2250e9cc4b0340": {
      "model_module": "@jupyter-widgets/controls",
      "model_module_version": "2.0.0",
      "model_name": "HTMLStyleModel",
      "state": {
       "description_width": "",
       "font_size": null,
       "text_color": null
      }
     },
     "58db1ef2614f4494a31049e055db7332": {
      "model_module": "@jupyter-widgets/base",
      "model_module_version": "2.0.0",
      "model_name": "LayoutModel",
      "state": {}
     },
     "599632f4269c4c7aa094ae8404f8e7bd": {
      "model_module": "@jupyter-widgets/controls",
      "model_module_version": "2.0.0",
      "model_name": "HTMLStyleModel",
      "state": {
       "description_width": "",
       "font_size": null,
       "text_color": null
      }
     },
     "59eb1ff212214e71bd15868dee1bc1a4": {
      "model_module": "@jupyter-widgets/controls",
      "model_module_version": "2.0.0",
      "model_name": "HTMLStyleModel",
      "state": {
       "description_width": "",
       "font_size": null,
       "text_color": null
      }
     },
     "5a5107e507364da58a30757be6ff8261": {
      "model_module": "@jupyter-widgets/base",
      "model_module_version": "2.0.0",
      "model_name": "LayoutModel",
      "state": {}
     },
     "5a67d7a41bfb4ef38b3a03eecfc544d6": {
      "model_module": "@jupyter-widgets/base",
      "model_module_version": "2.0.0",
      "model_name": "LayoutModel",
      "state": {
       "visibility": "hidden"
      }
     },
     "5ae303a5c2964dbe8af106494f826008": {
      "model_module": "@jupyter-widgets/controls",
      "model_module_version": "2.0.0",
      "model_name": "ProgressStyleModel",
      "state": {
       "description_width": ""
      }
     },
     "5d33be7101bc4a6d8e62013a4e6769bf": {
      "model_module": "@jupyter-widgets/base",
      "model_module_version": "2.0.0",
      "model_name": "LayoutModel",
      "state": {}
     },
     "5daf4d03654f4aefb4b2ed303d253658": {
      "model_module": "@jupyter-widgets/controls",
      "model_module_version": "2.0.0",
      "model_name": "HTMLModel",
      "state": {
       "layout": "IPY_MODEL_32f1e0a8f2164684bb7e5d8030a8572d",
       "style": "IPY_MODEL_4e127cd7221c463fa3df7db6a91d03b7",
       "value": "Done - /Users/igorlapin/Разговор-15.mp3: 100%"
      }
     },
     "5e0a7770c4bb4107840335c34a61acab": {
      "model_module": "@jupyter-widgets/base",
      "model_module_version": "2.0.0",
      "model_name": "LayoutModel",
      "state": {}
     },
     "5f1afb5de7b24d02989894a9df100221": {
      "model_module": "@jupyter-widgets/base",
      "model_module_version": "2.0.0",
      "model_name": "LayoutModel",
      "state": {}
     },
     "60463da92c86469d8c4cda7a8278e6c4": {
      "model_module": "@jupyter-widgets/controls",
      "model_module_version": "2.0.0",
      "model_name": "HTMLStyleModel",
      "state": {
       "description_width": "",
       "font_size": null,
       "text_color": null
      }
     },
     "61e49d8c860248a4a99a5d13b389be7d": {
      "model_module": "@jupyter-widgets/base",
      "model_module_version": "2.0.0",
      "model_name": "LayoutModel",
      "state": {}
     },
     "621f5b1571064c06b88f23db6622ab65": {
      "model_module": "@jupyter-widgets/controls",
      "model_module_version": "2.0.0",
      "model_name": "HTMLModel",
      "state": {
       "layout": "IPY_MODEL_b67d26b5d8594e8291d40e7626212071",
       "style": "IPY_MODEL_ca84c0368a1547b19b9a3945e50284f9",
       "value": " 1.0/1.0 [04:57&lt;00:00, 297.51s/it]"
      }
     },
     "627f1d427b1640989e02d60e31f65f20": {
      "model_module": "@jupyter-widgets/base",
      "model_module_version": "2.0.0",
      "model_name": "LayoutModel",
      "state": {
       "visibility": "hidden"
      }
     },
     "6346f26ef4ca4b34b481f0a2e21368c8": {
      "model_module": "@jupyter-widgets/controls",
      "model_module_version": "2.0.0",
      "model_name": "HTMLModel",
      "state": {
       "layout": "IPY_MODEL_9ed07276a0b443ffac1dd580d77777a5",
       "style": "IPY_MODEL_c5f6e04090964965b6b26d092ea26f8a",
       "value": " 1.0/1.0 [05:00&lt;00:00, 300.32s/it]"
      }
     },
     "635e346977cb47a0a07368d141c81a4e": {
      "model_module": "@jupyter-widgets/controls",
      "model_module_version": "2.0.0",
      "model_name": "ProgressStyleModel",
      "state": {
       "description_width": ""
      }
     },
     "643676ce199f46de9986e7c19a1f23a4": {
      "model_module": "@jupyter-widgets/base",
      "model_module_version": "2.0.0",
      "model_name": "LayoutModel",
      "state": {}
     },
     "6470f372b87a4f7a96517eb7df81c085": {
      "model_module": "@jupyter-widgets/base",
      "model_module_version": "2.0.0",
      "model_name": "LayoutModel",
      "state": {}
     },
     "64a57c850041432dba2837acc40531d2": {
      "model_module": "@jupyter-widgets/controls",
      "model_module_version": "2.0.0",
      "model_name": "HTMLModel",
      "state": {
       "layout": "IPY_MODEL_74af0ba19c6f4701891430a20a3e0be4",
       "style": "IPY_MODEL_3c94e10f884e415191e8ef8f9d727733",
       "value": "Done - /Users/igorlapin/Разговор-15.mp3: 100%"
      }
     },
     "65434be0d119459f857c7d3f2674790c": {
      "model_module": "@jupyter-widgets/base",
      "model_module_version": "2.0.0",
      "model_name": "LayoutModel",
      "state": {
       "visibility": "hidden"
      }
     },
     "6555492fe64d4933816bbcc4583c9034": {
      "model_module": "@jupyter-widgets/controls",
      "model_module_version": "2.0.0",
      "model_name": "HTMLModel",
      "state": {
       "layout": "IPY_MODEL_fc492c0f6ce34bd1821008efdbfe654d",
       "style": "IPY_MODEL_b0dd549ce8ec42398e5d8a73ef8e3903",
       "value": "Done - /Users/igorlapin/Разговор-15.mp3: 100%"
      }
     },
     "66b763d638f64a93aeafbe01e471dd86": {
      "model_module": "@jupyter-widgets/base",
      "model_module_version": "2.0.0",
      "model_name": "LayoutModel",
      "state": {}
     },
     "67654d8d86b249679af9dc12a0955d03": {
      "model_module": "@jupyter-widgets/base",
      "model_module_version": "2.0.0",
      "model_name": "LayoutModel",
      "state": {}
     },
     "683c53c687c54488a306f7bcff55cd16": {
      "model_module": "@jupyter-widgets/controls",
      "model_module_version": "2.0.0",
      "model_name": "ProgressStyleModel",
      "state": {
       "description_width": ""
      }
     },
     "685fe65a0b7d463483d75f5ac1eb1f0c": {
      "model_module": "@jupyter-widgets/controls",
      "model_module_version": "2.0.0",
      "model_name": "HTMLStyleModel",
      "state": {
       "description_width": "",
       "font_size": null,
       "text_color": null
      }
     },
     "691e9718c3d54adebac0ba888e0c854c": {
      "model_module": "@jupyter-widgets/controls",
      "model_module_version": "2.0.0",
      "model_name": "HTMLModel",
      "state": {
       "layout": "IPY_MODEL_7e59f035b66649548f1ecc8ac29eaa6b",
       "style": "IPY_MODEL_19b73b1f6f5b47b19efcaed0676c57b2",
       "value": " 1.0/1.0 [05:37&lt;00:00, 337.71s/it]"
      }
     },
     "693e60e4d7fe49ed9db9c8e0bdf6a658": {
      "model_module": "@jupyter-widgets/controls",
      "model_module_version": "2.0.0",
      "model_name": "HTMLStyleModel",
      "state": {
       "description_width": "",
       "font_size": null,
       "text_color": null
      }
     },
     "695262471e754d46847e7ba5354a5c7c": {
      "model_module": "@jupyter-widgets/controls",
      "model_module_version": "2.0.0",
      "model_name": "ProgressStyleModel",
      "state": {
       "description_width": ""
      }
     },
     "69e97dd75bd94e7c95d1ae73518a5a53": {
      "model_module": "@jupyter-widgets/controls",
      "model_module_version": "2.0.0",
      "model_name": "FloatProgressModel",
      "state": {
       "layout": "IPY_MODEL_d8f7173d80ef43b0b7844e29155c5035",
       "max": 1,
       "style": "IPY_MODEL_695262471e754d46847e7ba5354a5c7c",
       "value": 1
      }
     },
     "6a4811f71b9543f080ee35ae7e3a27d9": {
      "model_module": "@jupyter-widgets/controls",
      "model_module_version": "2.0.0",
      "model_name": "HTMLModel",
      "state": {
       "layout": "IPY_MODEL_f465041937844c54b95976ddf72536b6",
       "style": "IPY_MODEL_ee2021252fa84cb8bb0d4dc2572f16fc",
       "value": "Done - /Users/igorlapin/Разговор-15.mp3: 100%"
      }
     },
     "6a7c364e901548f294d3a55ca4b91e0f": {
      "model_module": "@jupyter-widgets/base",
      "model_module_version": "2.0.0",
      "model_name": "LayoutModel",
      "state": {
       "visibility": "hidden"
      }
     },
     "6aba27f657754176838ebefc7b9efb6f": {
      "model_module": "@jupyter-widgets/base",
      "model_module_version": "2.0.0",
      "model_name": "LayoutModel",
      "state": {}
     },
     "6b345d3ee1c34b75bf7128a8f0d60e53": {
      "model_module": "@jupyter-widgets/controls",
      "model_module_version": "2.0.0",
      "model_name": "ProgressStyleModel",
      "state": {
       "description_width": ""
      }
     },
     "6b63d68e43c844efa82bad104b26637d": {
      "model_module": "@jupyter-widgets/base",
      "model_module_version": "2.0.0",
      "model_name": "LayoutModel",
      "state": {}
     },
     "6b99f67586d3487f918fd4ac3d5e5c7b": {
      "model_module": "@jupyter-widgets/controls",
      "model_module_version": "2.0.0",
      "model_name": "HTMLModel",
      "state": {
       "layout": "IPY_MODEL_ddcd76c0afd64bac981232b0b381c5df",
       "style": "IPY_MODEL_7a5a0c480e7148f89a1fa764372ae834",
       "value": "Done - /Users/igorlapin/Разговор-9.mp3: 100%"
      }
     },
     "6c3c09719ce945baa5a7431818d03357": {
      "model_module": "@jupyter-widgets/controls",
      "model_module_version": "2.0.0",
      "model_name": "HTMLModel",
      "state": {
       "layout": "IPY_MODEL_8693ee8606314ab4b1662e2aad178b41",
       "style": "IPY_MODEL_f3ae380e274645c496925f38236099a4",
       "value": "Done - /Users/igorlapin/Разговор-15.mp3: 100%"
      }
     },
     "6c5efe6dad284fd3ba46e519ef795530": {
      "model_module": "@jupyter-widgets/controls",
      "model_module_version": "2.0.0",
      "model_name": "FloatProgressModel",
      "state": {
       "layout": "IPY_MODEL_d0004436ee794bba937812f86caa02b7",
       "max": 1,
       "style": "IPY_MODEL_980cb607312f4b26aa6528a8cf603636",
       "value": 1
      }
     },
     "6d303050fc4f467badeb926109342742": {
      "model_module": "@jupyter-widgets/controls",
      "model_module_version": "2.0.0",
      "model_name": "HTMLStyleModel",
      "state": {
       "description_width": "",
       "font_size": null,
       "text_color": null
      }
     },
     "6dc7681a64544971ba2f0bcdb2a409d3": {
      "model_module": "@jupyter-widgets/controls",
      "model_module_version": "2.0.0",
      "model_name": "FloatProgressModel",
      "state": {
       "layout": "IPY_MODEL_9eea28eb2ac944448dc9b93ee3999d74",
       "max": 1,
       "style": "IPY_MODEL_f087d8c288674fd9b744f3d1214a3663",
       "value": 1
      }
     },
     "6f05cadd8f924865afa89758174d6bf2": {
      "model_module": "@jupyter-widgets/controls",
      "model_module_version": "2.0.0",
      "model_name": "ProgressStyleModel",
      "state": {
       "description_width": ""
      }
     },
     "6f09206492ce410cb05f552f3f7938be": {
      "model_module": "@jupyter-widgets/controls",
      "model_module_version": "2.0.0",
      "model_name": "HTMLModel",
      "state": {
       "layout": "IPY_MODEL_ce596a1e80da41de9ae08af324b0c3a3",
       "style": "IPY_MODEL_685fe65a0b7d463483d75f5ac1eb1f0c",
       "value": " 1.0/1.0 [05:19&lt;00:00, 319.20s/it]"
      }
     },
     "6fabcce075874e2fac11cc1eef425774": {
      "model_module": "@jupyter-widgets/base",
      "model_module_version": "2.0.0",
      "model_name": "LayoutModel",
      "state": {
       "visibility": "hidden"
      }
     },
     "7028767d00f64474bcb0d2a881cfcc5e": {
      "model_module": "@jupyter-widgets/base",
      "model_module_version": "2.0.0",
      "model_name": "LayoutModel",
      "state": {}
     },
     "7102cf97e08b4a4c93676290a93e5120": {
      "model_module": "@jupyter-widgets/controls",
      "model_module_version": "2.0.0",
      "model_name": "FloatProgressModel",
      "state": {
       "layout": "IPY_MODEL_b72a9d1a045c4c5a86016da9b6901849",
       "max": 1,
       "style": "IPY_MODEL_635e346977cb47a0a07368d141c81a4e",
       "value": 1
      }
     },
     "72ff98dae5b3433fb93387e8a61b1dce": {
      "model_module": "@jupyter-widgets/controls",
      "model_module_version": "2.0.0",
      "model_name": "HTMLModel",
      "state": {
       "layout": "IPY_MODEL_90ba9a0c77464a08ba539d9ed372ce56",
       "style": "IPY_MODEL_dd55a5f5795b48b5bf00fe43b1caabf3",
       "value": " 1.0/1.0 [02:55&lt;00:00, 175.37s/it]"
      }
     },
     "74af0ba19c6f4701891430a20a3e0be4": {
      "model_module": "@jupyter-widgets/base",
      "model_module_version": "2.0.0",
      "model_name": "LayoutModel",
      "state": {}
     },
     "75133f0c1a65433283cf5871b7471cd7": {
      "model_module": "@jupyter-widgets/base",
      "model_module_version": "2.0.0",
      "model_name": "LayoutModel",
      "state": {
       "visibility": "hidden"
      }
     },
     "75ace6ca40884d45895c9109d9e9be8a": {
      "model_module": "@jupyter-widgets/base",
      "model_module_version": "2.0.0",
      "model_name": "LayoutModel",
      "state": {
       "visibility": "hidden"
      }
     },
     "76060992a0c84e1c94af15be93919450": {
      "model_module": "@jupyter-widgets/base",
      "model_module_version": "2.0.0",
      "model_name": "LayoutModel",
      "state": {}
     },
     "760d1a79eb6440f6834b77788a1e6918": {
      "model_module": "@jupyter-widgets/controls",
      "model_module_version": "2.0.0",
      "model_name": "HTMLModel",
      "state": {
       "layout": "IPY_MODEL_2676bf2aadf446ef82f69660622fc0a2",
       "style": "IPY_MODEL_191193c02a424a438485d54e4568008b",
       "value": " 1.0/1.0 [04:56&lt;00:00, 296.20s/it]"
      }
     },
     "76ecabefcef64721a543407d9dbb7ac2": {
      "model_module": "@jupyter-widgets/controls",
      "model_module_version": "2.0.0",
      "model_name": "HTMLModel",
      "state": {
       "layout": "IPY_MODEL_78ab82bc9b074e3a9240d0810879b839",
       "style": "IPY_MODEL_e122e7840ca6461eae4a2302a0303a29",
       "value": " 1.0/1.0 [04:58&lt;00:00, 298.63s/it]"
      }
     },
     "774a78fd89184c4583bde63c46c23866": {
      "model_module": "@jupyter-widgets/controls",
      "model_module_version": "2.0.0",
      "model_name": "HTMLStyleModel",
      "state": {
       "description_width": "",
       "font_size": null,
       "text_color": null
      }
     },
     "77ed7bee1e9749738b16ba1b0b2d3ea7": {
      "model_module": "@jupyter-widgets/base",
      "model_module_version": "2.0.0",
      "model_name": "LayoutModel",
      "state": {
       "visibility": "hidden"
      }
     },
     "77fe728ba7214eea947354461dd08f38": {
      "model_module": "@jupyter-widgets/base",
      "model_module_version": "2.0.0",
      "model_name": "LayoutModel",
      "state": {}
     },
     "78ab82bc9b074e3a9240d0810879b839": {
      "model_module": "@jupyter-widgets/base",
      "model_module_version": "2.0.0",
      "model_name": "LayoutModel",
      "state": {}
     },
     "78b623e548434d6885e570038ea299f1": {
      "model_module": "@jupyter-widgets/base",
      "model_module_version": "2.0.0",
      "model_name": "LayoutModel",
      "state": {}
     },
     "79a2f8b1df0c47469270a6db67176d71": {
      "model_module": "@jupyter-widgets/base",
      "model_module_version": "2.0.0",
      "model_name": "LayoutModel",
      "state": {
       "visibility": "hidden"
      }
     },
     "79d6e47c81d742eab87d6b8547ee9d38": {
      "model_module": "@jupyter-widgets/controls",
      "model_module_version": "2.0.0",
      "model_name": "ProgressStyleModel",
      "state": {
       "description_width": ""
      }
     },
     "7a5a0c480e7148f89a1fa764372ae834": {
      "model_module": "@jupyter-widgets/controls",
      "model_module_version": "2.0.0",
      "model_name": "HTMLStyleModel",
      "state": {
       "description_width": "",
       "font_size": null,
       "text_color": null
      }
     },
     "7b007c2c74cd472db471b760443bc812": {
      "model_module": "@jupyter-widgets/controls",
      "model_module_version": "2.0.0",
      "model_name": "HBoxModel",
      "state": {
       "children": [
        "IPY_MODEL_6a4811f71b9543f080ee35ae7e3a27d9",
        "IPY_MODEL_cf335e2ed1fa469bbb4d75065ad003b2",
        "IPY_MODEL_2cc80cb8a573460081b1c2e1a134802f"
       ],
       "layout": "IPY_MODEL_c54be5c499534877b99212b8858ba717"
      }
     },
     "7b9beb47af7247b2bdb74c0527cd2ec5": {
      "model_module": "@jupyter-widgets/base",
      "model_module_version": "2.0.0",
      "model_name": "LayoutModel",
      "state": {}
     },
     "7c8eda9665d841068f3780062db8e9f1": {
      "model_module": "@jupyter-widgets/controls",
      "model_module_version": "2.0.0",
      "model_name": "HTMLStyleModel",
      "state": {
       "description_width": "",
       "font_size": null,
       "text_color": null
      }
     },
     "7ca4c1c8b9c646c98da3a5b5d0382e8d": {
      "model_module": "@jupyter-widgets/controls",
      "model_module_version": "2.0.0",
      "model_name": "HTMLStyleModel",
      "state": {
       "description_width": "",
       "font_size": null,
       "text_color": null
      }
     },
     "7d0c91a3fbc14637bb0d54d4e22becda": {
      "model_module": "@jupyter-widgets/controls",
      "model_module_version": "2.0.0",
      "model_name": "HTMLModel",
      "state": {
       "layout": "IPY_MODEL_cb9a77877b5c4af8a9e6f1c3af432679",
       "style": "IPY_MODEL_7ca4c1c8b9c646c98da3a5b5d0382e8d",
       "value": "Done - /Users/igorlapin/Разговор-13.mp3: 100%"
      }
     },
     "7d47e79283024caa97fefb383019ea19": {
      "model_module": "@jupyter-widgets/base",
      "model_module_version": "2.0.0",
      "model_name": "LayoutModel",
      "state": {}
     },
     "7d6b144496e74299bcdf86a14185be53": {
      "model_module": "@jupyter-widgets/controls",
      "model_module_version": "2.0.0",
      "model_name": "HTMLStyleModel",
      "state": {
       "description_width": "",
       "font_size": null,
       "text_color": null
      }
     },
     "7e59f035b66649548f1ecc8ac29eaa6b": {
      "model_module": "@jupyter-widgets/base",
      "model_module_version": "2.0.0",
      "model_name": "LayoutModel",
      "state": {}
     },
     "7f10619494bc4cc399d4a530f2067322": {
      "model_module": "@jupyter-widgets/base",
      "model_module_version": "2.0.0",
      "model_name": "LayoutModel",
      "state": {}
     },
     "7f92aaea55ca40299fb2f35ca6c6faf0": {
      "model_module": "@jupyter-widgets/controls",
      "model_module_version": "2.0.0",
      "model_name": "HTMLModel",
      "state": {
       "layout": "IPY_MODEL_c1dae7b3e02d4bf4889afff5eeda577a",
       "style": "IPY_MODEL_4b0cfbb3171b4bc1a46af1dbe773626c",
       "value": "Done - /Users/igorlapin/Разговор-15.mp3: 100%"
      }
     },
     "7ff5bc9f77b0437c8d1e0ded44dbc33e": {
      "model_module": "@jupyter-widgets/controls",
      "model_module_version": "2.0.0",
      "model_name": "HTMLStyleModel",
      "state": {
       "description_width": "",
       "font_size": null,
       "text_color": null
      }
     },
     "801371544f26444a9921788225e4b904": {
      "model_module": "@jupyter-widgets/controls",
      "model_module_version": "2.0.0",
      "model_name": "FloatProgressModel",
      "state": {
       "layout": "IPY_MODEL_e347ef4b9f554c13b8685ca10ee8ebb4",
       "max": 1,
       "style": "IPY_MODEL_482a40c900954f3a9854d62dd6a5dfc5",
       "value": 1
      }
     },
     "80247c4299a147e19435fe0682a1378f": {
      "model_module": "@jupyter-widgets/controls",
      "model_module_version": "2.0.0",
      "model_name": "HTMLModel",
      "state": {
       "layout": "IPY_MODEL_1a508604701746d39b5fc2174b64fbba",
       "style": "IPY_MODEL_3c92d92905c04807b316363083f34c5b",
       "value": "Done - /Users/igorlapin/Разговор-9.mp3: 100%"
      }
     },
     "835b6715799f4713bf7aa4fd796f23b4": {
      "model_module": "@jupyter-widgets/controls",
      "model_module_version": "2.0.0",
      "model_name": "ProgressStyleModel",
      "state": {
       "description_width": ""
      }
     },
     "8543b2fe7fa649dc9412f53059a526f9": {
      "model_module": "@jupyter-widgets/controls",
      "model_module_version": "2.0.0",
      "model_name": "HTMLModel",
      "state": {
       "layout": "IPY_MODEL_0198fcf688f64997acc50938332cfe2f",
       "style": "IPY_MODEL_db0c0340ebf746d5b339c9519aab3ee5",
       "value": " 1.0/1.0 [01:53&lt;00:00, 113.12s/it]"
      }
     },
     "8693ee8606314ab4b1662e2aad178b41": {
      "model_module": "@jupyter-widgets/base",
      "model_module_version": "2.0.0",
      "model_name": "LayoutModel",
      "state": {}
     },
     "8694308cad0543cc937057b6d8b3f080": {
      "model_module": "@jupyter-widgets/controls",
      "model_module_version": "2.0.0",
      "model_name": "HTMLModel",
      "state": {
       "layout": "IPY_MODEL_11af0eb12ac74165a53bcd3a2b2a2747",
       "style": "IPY_MODEL_044b740147fe48ee82cbbe9899bc3288",
       "value": "Done - /Users/igorlapin/Разговор-15.mp3: 100%"
      }
     },
     "86f31d023aa643a89e9a6b4e1fadabe8": {
      "model_module": "@jupyter-widgets/base",
      "model_module_version": "2.0.0",
      "model_name": "LayoutModel",
      "state": {
       "visibility": "hidden"
      }
     },
     "8887c8e027d541cd8035c06e22771ee5": {
      "model_module": "@jupyter-widgets/base",
      "model_module_version": "2.0.0",
      "model_name": "LayoutModel",
      "state": {}
     },
     "8917d53594844df982eafea6605d488f": {
      "model_module": "@jupyter-widgets/controls",
      "model_module_version": "2.0.0",
      "model_name": "ProgressStyleModel",
      "state": {
       "description_width": ""
      }
     },
     "8b6d73638dd544e5903e99e8060143c7": {
      "model_module": "@jupyter-widgets/controls",
      "model_module_version": "2.0.0",
      "model_name": "HTMLModel",
      "state": {
       "layout": "IPY_MODEL_77fe728ba7214eea947354461dd08f38",
       "style": "IPY_MODEL_6d303050fc4f467badeb926109342742",
       "value": "Done - /Users/igorlapin/Разговор-15.mp3: 100%"
      }
     },
     "8d84a60578c2407393d33773010778a5": {
      "model_module": "@jupyter-widgets/base",
      "model_module_version": "2.0.0",
      "model_name": "LayoutModel",
      "state": {}
     },
     "8df31025e9f1465aa8bf1d47aadb0819": {
      "model_module": "@jupyter-widgets/controls",
      "model_module_version": "2.0.0",
      "model_name": "HTMLModel",
      "state": {
       "layout": "IPY_MODEL_0f9d97f052554611b9f614f502864147",
       "style": "IPY_MODEL_3cebc5d43507460cb57484b50b97da49",
       "value": " 1.0/1.0 [05:07&lt;00:00, 307.63s/it]"
      }
     },
     "8e869f2277c94d1387fcb164a604c09e": {
      "model_module": "@jupyter-widgets/controls",
      "model_module_version": "2.0.0",
      "model_name": "FloatProgressModel",
      "state": {
       "layout": "IPY_MODEL_45ede1604e7c4d4e886a9b84a695c308",
       "max": 1,
       "style": "IPY_MODEL_29fb63b4579d4702820384a7a50af294",
       "value": 1
      }
     },
     "8eab8be269d648fc94cdb93c66504fc2": {
      "model_module": "@jupyter-widgets/controls",
      "model_module_version": "2.0.0",
      "model_name": "HTMLModel",
      "state": {
       "layout": "IPY_MODEL_8887c8e027d541cd8035c06e22771ee5",
       "style": "IPY_MODEL_b732c06a7f7b454da5a4641d15c8d9a7",
       "value": "Done - /Users/igorlapin/Разговор-12.mp3: 100%"
      }
     },
     "904a62ae122d4bef8d8b75757889dbf2": {
      "model_module": "@jupyter-widgets/base",
      "model_module_version": "2.0.0",
      "model_name": "LayoutModel",
      "state": {
       "visibility": "hidden"
      }
     },
     "90ba9a0c77464a08ba539d9ed372ce56": {
      "model_module": "@jupyter-widgets/base",
      "model_module_version": "2.0.0",
      "model_name": "LayoutModel",
      "state": {}
     },
     "911a5ee0238b4c89967f34a4048cda5f": {
      "model_module": "@jupyter-widgets/base",
      "model_module_version": "2.0.0",
      "model_name": "LayoutModel",
      "state": {}
     },
     "916ee6caa376479f99d276534af8b03e": {
      "model_module": "@jupyter-widgets/base",
      "model_module_version": "2.0.0",
      "model_name": "LayoutModel",
      "state": {}
     },
     "9207dd8caa374e26a5185a9721275be6": {
      "model_module": "@jupyter-widgets/controls",
      "model_module_version": "2.0.0",
      "model_name": "HTMLStyleModel",
      "state": {
       "description_width": "",
       "font_size": null,
       "text_color": null
      }
     },
     "9281047b9ce947c2b599d68a881e4fc5": {
      "model_module": "@jupyter-widgets/base",
      "model_module_version": "2.0.0",
      "model_name": "LayoutModel",
      "state": {}
     },
     "92c2a1e20ca14d61b89e48c93ce0cfee": {
      "model_module": "@jupyter-widgets/controls",
      "model_module_version": "2.0.0",
      "model_name": "HTMLStyleModel",
      "state": {
       "description_width": "",
       "font_size": null,
       "text_color": null
      }
     },
     "93e8c5f64cb24a25b933f7ce1d77043c": {
      "model_module": "@jupyter-widgets/controls",
      "model_module_version": "2.0.0",
      "model_name": "HTMLModel",
      "state": {
       "layout": "IPY_MODEL_e4650ea7c0f9413387b05fb55508c48d",
       "style": "IPY_MODEL_589ddb69c22c4b998d2250e9cc4b0340",
       "value": "Done - /Users/igorlapin/Разговор-10.mp3: 100%"
      }
     },
     "9479b998d49743ff8d674d985573d7d3": {
      "model_module": "@jupyter-widgets/controls",
      "model_module_version": "2.0.0",
      "model_name": "ProgressStyleModel",
      "state": {
       "description_width": ""
      }
     },
     "9510d8b6d3ea4756b8bfe70a2b386176": {
      "model_module": "@jupyter-widgets/controls",
      "model_module_version": "2.0.0",
      "model_name": "ProgressStyleModel",
      "state": {
       "description_width": ""
      }
     },
     "9523d74190314441b9778d4719dc64ed": {
      "model_module": "@jupyter-widgets/controls",
      "model_module_version": "2.0.0",
      "model_name": "FloatProgressModel",
      "state": {
       "layout": "IPY_MODEL_6470f372b87a4f7a96517eb7df81c085",
       "max": 1,
       "style": "IPY_MODEL_e8f3fd4c6d24433891a5ab87989bdac1",
       "value": 1
      }
     },
     "95b9eb99db474a1eb3da69ca46be1e60": {
      "model_module": "@jupyter-widgets/controls",
      "model_module_version": "2.0.0",
      "model_name": "HTMLStyleModel",
      "state": {
       "description_width": "",
       "font_size": null,
       "text_color": null
      }
     },
     "960ae67101e544419f8ab9340593923c": {
      "model_module": "@jupyter-widgets/controls",
      "model_module_version": "2.0.0",
      "model_name": "HTMLStyleModel",
      "state": {
       "description_width": "",
       "font_size": null,
       "text_color": null
      }
     },
     "96fd0f624af5425994cebd2180176c6b": {
      "model_module": "@jupyter-widgets/base",
      "model_module_version": "2.0.0",
      "model_name": "LayoutModel",
      "state": {}
     },
     "97b0ddf7d1434d0b8f03560af4884e48": {
      "model_module": "@jupyter-widgets/controls",
      "model_module_version": "2.0.0",
      "model_name": "FloatProgressModel",
      "state": {
       "layout": "IPY_MODEL_ca4e05659d034fd2a5fe7d48a1d1307c",
       "max": 1,
       "style": "IPY_MODEL_683c53c687c54488a306f7bcff55cd16",
       "value": 1
      }
     },
     "980cb607312f4b26aa6528a8cf603636": {
      "model_module": "@jupyter-widgets/controls",
      "model_module_version": "2.0.0",
      "model_name": "ProgressStyleModel",
      "state": {
       "description_width": ""
      }
     },
     "985854814c2b4cd59dd5b06a51314c8e": {
      "model_module": "@jupyter-widgets/controls",
      "model_module_version": "2.0.0",
      "model_name": "FloatProgressModel",
      "state": {
       "layout": "IPY_MODEL_241aadc2decb4d38bb545e8593db46a5",
       "max": 1,
       "style": "IPY_MODEL_43672a20878144a5bcd3e15cf7ddf064",
       "value": 1
      }
     },
     "98a8c054cafe432ca37fd92cdf9bc657": {
      "model_module": "@jupyter-widgets/controls",
      "model_module_version": "2.0.0",
      "model_name": "HTMLModel",
      "state": {
       "layout": "IPY_MODEL_9b436c5ce6c94505aad33bfabd04e6bb",
       "style": "IPY_MODEL_9fde2505f77445c8ac3454d676453aa5",
       "value": "Done - /Users/igorlapin/Разговор-8.mp3: 100%"
      }
     },
     "9a0fcd591b4f47eeb6cd9c63ca6de434": {
      "model_module": "@jupyter-widgets/controls",
      "model_module_version": "2.0.0",
      "model_name": "HTMLModel",
      "state": {
       "layout": "IPY_MODEL_9df4fb8642cd4cce939e46cdf4bd3673",
       "style": "IPY_MODEL_0c6204f29a7b4253944c23c75d780c5a",
       "value": "Done - /Users/igorlapin/Разговор-15.mp3: 100%"
      }
     },
     "9a627a792cb64de1987034e37c705e00": {
      "model_module": "@jupyter-widgets/base",
      "model_module_version": "2.0.0",
      "model_name": "LayoutModel",
      "state": {}
     },
     "9a694cf7a78e49509c322b8c67266d7a": {
      "model_module": "@jupyter-widgets/base",
      "model_module_version": "2.0.0",
      "model_name": "LayoutModel",
      "state": {}
     },
     "9a6f16eab2d143cdac2a121e30ba1f4d": {
      "model_module": "@jupyter-widgets/controls",
      "model_module_version": "2.0.0",
      "model_name": "HTMLStyleModel",
      "state": {
       "description_width": "",
       "font_size": null,
       "text_color": null
      }
     },
     "9b436c5ce6c94505aad33bfabd04e6bb": {
      "model_module": "@jupyter-widgets/base",
      "model_module_version": "2.0.0",
      "model_name": "LayoutModel",
      "state": {}
     },
     "9b83be0a52bf454fba8e103580a51e69": {
      "model_module": "@jupyter-widgets/controls",
      "model_module_version": "2.0.0",
      "model_name": "ProgressStyleModel",
      "state": {
       "description_width": ""
      }
     },
     "9b8e883f577a46d1ae5e4863f1d5fa0b": {
      "model_module": "@jupyter-widgets/controls",
      "model_module_version": "2.0.0",
      "model_name": "FloatProgressModel",
      "state": {
       "layout": "IPY_MODEL_916ee6caa376479f99d276534af8b03e",
       "max": 1,
       "style": "IPY_MODEL_ce717d775f6f457593ad2b90206e40a0",
       "value": 1
      }
     },
     "9bb3f2658885476a9738aceccb9e49cd": {
      "model_module": "@jupyter-widgets/controls",
      "model_module_version": "2.0.0",
      "model_name": "HTMLModel",
      "state": {
       "layout": "IPY_MODEL_5d33be7101bc4a6d8e62013a4e6769bf",
       "style": "IPY_MODEL_af4f027ad06a4990b6847c31372d4a92",
       "value": " 1.0/1.0 [02:56&lt;00:00, 176.14s/it]"
      }
     },
     "9df4fb8642cd4cce939e46cdf4bd3673": {
      "model_module": "@jupyter-widgets/base",
      "model_module_version": "2.0.0",
      "model_name": "LayoutModel",
      "state": {}
     },
     "9ed07276a0b443ffac1dd580d77777a5": {
      "model_module": "@jupyter-widgets/base",
      "model_module_version": "2.0.0",
      "model_name": "LayoutModel",
      "state": {}
     },
     "9edeba1884ca42f682c80aa4671374a5": {
      "model_module": "@jupyter-widgets/controls",
      "model_module_version": "2.0.0",
      "model_name": "HTMLModel",
      "state": {
       "layout": "IPY_MODEL_b93d6eef79c14ddcbaa01901c64edf87",
       "style": "IPY_MODEL_c87f9b2c354f4593846abef177f9a0a4",
       "value": " 1.0/1.0 [04:56&lt;00:00, 296.67s/it]"
      }
     },
     "9eea28eb2ac944448dc9b93ee3999d74": {
      "model_module": "@jupyter-widgets/base",
      "model_module_version": "2.0.0",
      "model_name": "LayoutModel",
      "state": {}
     },
     "9fde2505f77445c8ac3454d676453aa5": {
      "model_module": "@jupyter-widgets/controls",
      "model_module_version": "2.0.0",
      "model_name": "HTMLStyleModel",
      "state": {
       "description_width": "",
       "font_size": null,
       "text_color": null
      }
     },
     "9fe0dee7ed3a4c71a6ae0c63b18baf3a": {
      "model_module": "@jupyter-widgets/controls",
      "model_module_version": "2.0.0",
      "model_name": "HTMLModel",
      "state": {
       "layout": "IPY_MODEL_34df5fdc1a0a407d88fd6b44085d8d56",
       "style": "IPY_MODEL_450c9c16639d468aaa2e5cb6962d9ec8",
       "value": "Done - /Users/igorlapin/Разговор-15.mp3: 100%"
      }
     },
     "a06e8ed82e144906b6a4f86edd5d514b": {
      "model_module": "@jupyter-widgets/controls",
      "model_module_version": "2.0.0",
      "model_name": "FloatProgressModel",
      "state": {
       "layout": "IPY_MODEL_61e49d8c860248a4a99a5d13b389be7d",
       "max": 1,
       "style": "IPY_MODEL_ea2b75911d95439da9eced4f0115aa0c",
       "value": 1
      }
     },
     "a08003e9355b4934a6c09aa946278460": {
      "model_module": "@jupyter-widgets/base",
      "model_module_version": "2.0.0",
      "model_name": "LayoutModel",
      "state": {}
     },
     "a2cf08d92ac94377bfc23e6acd350ce9": {
      "model_module": "@jupyter-widgets/base",
      "model_module_version": "2.0.0",
      "model_name": "LayoutModel",
      "state": {
       "visibility": "hidden"
      }
     },
     "a2e26126165141249255052081742cc6": {
      "model_module": "@jupyter-widgets/controls",
      "model_module_version": "2.0.0",
      "model_name": "HTMLModel",
      "state": {
       "layout": "IPY_MODEL_f806ac7caf244e2dbecad59a0654cf6d",
       "style": "IPY_MODEL_53e067b923cd4d1ab71460a380c8e0f4",
       "value": " 1.0/1.0 [03:10&lt;00:00, 190.86s/it]"
      }
     },
     "a2e5f1a1744a4f14b6050f710254361d": {
      "model_module": "@jupyter-widgets/base",
      "model_module_version": "2.0.0",
      "model_name": "LayoutModel",
      "state": {}
     },
     "a3a2bd03ad5045d79e5926fceb99b80c": {
      "model_module": "@jupyter-widgets/base",
      "model_module_version": "2.0.0",
      "model_name": "LayoutModel",
      "state": {}
     },
     "a57b90f1993148d1a63a9a803b87b653": {
      "model_module": "@jupyter-widgets/base",
      "model_module_version": "2.0.0",
      "model_name": "LayoutModel",
      "state": {}
     },
     "a5a2b01e8c1a490ab6ed245c51657c52": {
      "model_module": "@jupyter-widgets/base",
      "model_module_version": "2.0.0",
      "model_name": "LayoutModel",
      "state": {}
     },
     "a648a0ec179d4eb98084ad85c3e5189b": {
      "model_module": "@jupyter-widgets/controls",
      "model_module_version": "2.0.0",
      "model_name": "HTMLModel",
      "state": {
       "layout": "IPY_MODEL_6aba27f657754176838ebefc7b9efb6f",
       "style": "IPY_MODEL_cb6f1d9b600147f2b8d077cdeab027ba",
       "value": "Done - /Users/igorlapin/Разговор-15.mp3: 100%"
      }
     },
     "a8a19fdde9fa4c7693d41141b7804568": {
      "model_module": "@jupyter-widgets/base",
      "model_module_version": "2.0.0",
      "model_name": "LayoutModel",
      "state": {}
     },
     "a8a6fc78aab44737964d7baf0551829e": {
      "model_module": "@jupyter-widgets/controls",
      "model_module_version": "2.0.0",
      "model_name": "HBoxModel",
      "state": {
       "children": [
        "IPY_MODEL_8b6d73638dd544e5903e99e8060143c7",
        "IPY_MODEL_f9043e8c6ff042a3998f4ae8be32cbb2",
        "IPY_MODEL_de1b5e73e632407eaabe8c23379b13ad"
       ],
       "layout": "IPY_MODEL_37673cdebf42415da9f27efdcc1d584d"
      }
     },
     "a9669392a9dd453ba5506f49df5e595d": {
      "model_module": "@jupyter-widgets/controls",
      "model_module_version": "2.0.0",
      "model_name": "HTMLStyleModel",
      "state": {
       "description_width": "",
       "font_size": null,
       "text_color": null
      }
     },
     "a97621c41f9d469dba1896948c4e95d4": {
      "model_module": "@jupyter-widgets/controls",
      "model_module_version": "2.0.0",
      "model_name": "HTMLModel",
      "state": {
       "layout": "IPY_MODEL_643676ce199f46de9986e7c19a1f23a4",
       "style": "IPY_MODEL_2c9cea483b734504a7b5332a95192d33",
       "value": "Done - /Users/igorlapin/Разговор-6.mp3: 100%"
      }
     },
     "a9b5aadfb42644f1be8a1b7bde571baf": {
      "model_module": "@jupyter-widgets/base",
      "model_module_version": "2.0.0",
      "model_name": "LayoutModel",
      "state": {
       "visibility": "hidden"
      }
     },
     "aa5455d7092d442a87a2cef7e0059a26": {
      "model_module": "@jupyter-widgets/controls",
      "model_module_version": "2.0.0",
      "model_name": "FloatProgressModel",
      "state": {
       "layout": "IPY_MODEL_e5926012becb4ce7ab6304b92dc983a0",
       "max": 1,
       "style": "IPY_MODEL_5ae303a5c2964dbe8af106494f826008",
       "value": 1
      }
     },
     "aba6da310c8e4dc1aa57b8d023a3fc40": {
      "model_module": "@jupyter-widgets/controls",
      "model_module_version": "2.0.0",
      "model_name": "HTMLModel",
      "state": {
       "layout": "IPY_MODEL_8d84a60578c2407393d33773010778a5",
       "style": "IPY_MODEL_34ab48e2a8de490b927e055633bbd04b",
       "value": " 1.0/1.0 [05:23&lt;00:00, 323.96s/it]"
      }
     },
     "abc4dbc4261745f4a9aaa475598e3f3c": {
      "model_module": "@jupyter-widgets/base",
      "model_module_version": "2.0.0",
      "model_name": "LayoutModel",
      "state": {
       "visibility": "hidden"
      }
     },
     "ac40b310c5c743149ae1401d12fc07b7": {
      "model_module": "@jupyter-widgets/base",
      "model_module_version": "2.0.0",
      "model_name": "LayoutModel",
      "state": {}
     },
     "ad01293e8a0249d3a37d7849c7f3e74f": {
      "model_module": "@jupyter-widgets/base",
      "model_module_version": "2.0.0",
      "model_name": "LayoutModel",
      "state": {
       "visibility": "hidden"
      }
     },
     "ada89b672dc34158b18a06cd370ff023": {
      "model_module": "@jupyter-widgets/base",
      "model_module_version": "2.0.0",
      "model_name": "LayoutModel",
      "state": {}
     },
     "addd71080d534d149336f981f685883e": {
      "model_module": "@jupyter-widgets/controls",
      "model_module_version": "2.0.0",
      "model_name": "HTMLStyleModel",
      "state": {
       "description_width": "",
       "font_size": null,
       "text_color": null
      }
     },
     "aea1c5aa056f4fd5bc7b45379a66254b": {
      "model_module": "@jupyter-widgets/controls",
      "model_module_version": "2.0.0",
      "model_name": "HTMLStyleModel",
      "state": {
       "description_width": "",
       "font_size": null,
       "text_color": null
      }
     },
     "af4f027ad06a4990b6847c31372d4a92": {
      "model_module": "@jupyter-widgets/controls",
      "model_module_version": "2.0.0",
      "model_name": "HTMLStyleModel",
      "state": {
       "description_width": "",
       "font_size": null,
       "text_color": null
      }
     },
     "afa478ad65a647d2b7e0412526a5a14b": {
      "model_module": "@jupyter-widgets/base",
      "model_module_version": "2.0.0",
      "model_name": "LayoutModel",
      "state": {}
     },
     "b0517e03335244ffaf2a1e1238ae6a38": {
      "model_module": "@jupyter-widgets/base",
      "model_module_version": "2.0.0",
      "model_name": "LayoutModel",
      "state": {}
     },
     "b0dd549ce8ec42398e5d8a73ef8e3903": {
      "model_module": "@jupyter-widgets/controls",
      "model_module_version": "2.0.0",
      "model_name": "HTMLStyleModel",
      "state": {
       "description_width": "",
       "font_size": null,
       "text_color": null
      }
     },
     "b19d7224e9d940d59bb5669dc952074b": {
      "model_module": "@jupyter-widgets/base",
      "model_module_version": "2.0.0",
      "model_name": "LayoutModel",
      "state": {}
     },
     "b28afd46059e49db8081e3cf59ef3832": {
      "model_module": "@jupyter-widgets/controls",
      "model_module_version": "2.0.0",
      "model_name": "HTMLStyleModel",
      "state": {
       "description_width": "",
       "font_size": null,
       "text_color": null
      }
     },
     "b2cfc4c092774d4198c10b8b6af5616a": {
      "model_module": "@jupyter-widgets/controls",
      "model_module_version": "2.0.0",
      "model_name": "HTMLModel",
      "state": {
       "layout": "IPY_MODEL_d4748de587794a51aa08a6eae19b213c",
       "style": "IPY_MODEL_92c2a1e20ca14d61b89e48c93ce0cfee",
       "value": " 1.0/1.0 [02:27&lt;00:00, 147.34s/it]"
      }
     },
     "b2e2bf20ab5240c186a6337dc824ab74": {
      "model_module": "@jupyter-widgets/controls",
      "model_module_version": "2.0.0",
      "model_name": "FloatProgressModel",
      "state": {
       "layout": "IPY_MODEL_3bd1339411f546919abefb94e52f0f52",
       "max": 1,
       "style": "IPY_MODEL_245ed800f0444d7b872db2fb8f42fc9b",
       "value": 1
      }
     },
     "b308d490bf9d446a85ab109a8dd1a073": {
      "model_module": "@jupyter-widgets/base",
      "model_module_version": "2.0.0",
      "model_name": "LayoutModel",
      "state": {
       "visibility": "hidden"
      }
     },
     "b4638fb2f13343699454bad7e7d90521": {
      "model_module": "@jupyter-widgets/base",
      "model_module_version": "2.0.0",
      "model_name": "LayoutModel",
      "state": {}
     },
     "b4ab0bad127247dcb028dbc24f682ca6": {
      "model_module": "@jupyter-widgets/controls",
      "model_module_version": "2.0.0",
      "model_name": "HTMLStyleModel",
      "state": {
       "description_width": "",
       "font_size": null,
       "text_color": null
      }
     },
     "b4c9293e244343128f663a76e9a8f166": {
      "model_module": "@jupyter-widgets/controls",
      "model_module_version": "2.0.0",
      "model_name": "HTMLStyleModel",
      "state": {
       "description_width": "",
       "font_size": null,
       "text_color": null
      }
     },
     "b67d26b5d8594e8291d40e7626212071": {
      "model_module": "@jupyter-widgets/base",
      "model_module_version": "2.0.0",
      "model_name": "LayoutModel",
      "state": {}
     },
     "b72a9d1a045c4c5a86016da9b6901849": {
      "model_module": "@jupyter-widgets/base",
      "model_module_version": "2.0.0",
      "model_name": "LayoutModel",
      "state": {}
     },
     "b732c06a7f7b454da5a4641d15c8d9a7": {
      "model_module": "@jupyter-widgets/controls",
      "model_module_version": "2.0.0",
      "model_name": "HTMLStyleModel",
      "state": {
       "description_width": "",
       "font_size": null,
       "text_color": null
      }
     },
     "b7695b6d4046470a93532e05e64de27f": {
      "model_module": "@jupyter-widgets/controls",
      "model_module_version": "2.0.0",
      "model_name": "HTMLModel",
      "state": {
       "layout": "IPY_MODEL_76060992a0c84e1c94af15be93919450",
       "style": "IPY_MODEL_db0738efb7de40ec897c134d06a78fa2",
       "value": "Done - /Users/igorlapin/Разговор-7.mp3: 100%"
      }
     },
     "b8e9cc95aea846a9b4256a0aab06aabc": {
      "model_module": "@jupyter-widgets/base",
      "model_module_version": "2.0.0",
      "model_name": "LayoutModel",
      "state": {}
     },
     "b93d6eef79c14ddcbaa01901c64edf87": {
      "model_module": "@jupyter-widgets/base",
      "model_module_version": "2.0.0",
      "model_name": "LayoutModel",
      "state": {}
     },
     "b978c3b470ce43f28a0ced2bb40bf697": {
      "model_module": "@jupyter-widgets/controls",
      "model_module_version": "2.0.0",
      "model_name": "HTMLStyleModel",
      "state": {
       "description_width": "",
       "font_size": null,
       "text_color": null
      }
     },
     "bc798d292acb4b98b8152a33692ff5bc": {
      "model_module": "@jupyter-widgets/controls",
      "model_module_version": "2.0.0",
      "model_name": "HTMLModel",
      "state": {
       "layout": "IPY_MODEL_9a627a792cb64de1987034e37c705e00",
       "style": "IPY_MODEL_b28afd46059e49db8081e3cf59ef3832",
       "value": " 1.0/1.0 [04:44&lt;00:00, 284.28s/it]"
      }
     },
     "bc98352c22694a2386511fd27d756edf": {
      "model_module": "@jupyter-widgets/base",
      "model_module_version": "2.0.0",
      "model_name": "LayoutModel",
      "state": {
       "visibility": "hidden"
      }
     },
     "bc9d92a046c54d569a88cfcc949a8895": {
      "model_module": "@jupyter-widgets/base",
      "model_module_version": "2.0.0",
      "model_name": "LayoutModel",
      "state": {
       "visibility": "hidden"
      }
     },
     "bdc49fd932d34e40b712fc5bac2fdb9f": {
      "model_module": "@jupyter-widgets/controls",
      "model_module_version": "2.0.0",
      "model_name": "FloatProgressModel",
      "state": {
       "layout": "IPY_MODEL_39e7b650d3be4a3f9ae79af339614c18",
       "max": 1,
       "style": "IPY_MODEL_2ab1cf9fc8ba455cbc9c0de32781508d",
       "value": 1
      }
     },
     "bea996fee1f04e4b82aaf685ca43d679": {
      "model_module": "@jupyter-widgets/base",
      "model_module_version": "2.0.0",
      "model_name": "LayoutModel",
      "state": {}
     },
     "bf6efd6ab524467093837d4861c587a6": {
      "model_module": "@jupyter-widgets/controls",
      "model_module_version": "2.0.0",
      "model_name": "HTMLStyleModel",
      "state": {
       "description_width": "",
       "font_size": null,
       "text_color": null
      }
     },
     "c1dae7b3e02d4bf4889afff5eeda577a": {
      "model_module": "@jupyter-widgets/base",
      "model_module_version": "2.0.0",
      "model_name": "LayoutModel",
      "state": {}
     },
     "c1efece6a2b74300baef67fe9a17c67d": {
      "model_module": "@jupyter-widgets/controls",
      "model_module_version": "2.0.0",
      "model_name": "HTMLModel",
      "state": {
       "layout": "IPY_MODEL_a3a2bd03ad5045d79e5926fceb99b80c",
       "style": "IPY_MODEL_4736bb9ea7904481b2825c0287adba46",
       "value": "Done - /Users/igorlapin/Разговор-20.mp3: 100%"
      }
     },
     "c253cd1888cf42e4898c4db831607872": {
      "model_module": "@jupyter-widgets/base",
      "model_module_version": "2.0.0",
      "model_name": "LayoutModel",
      "state": {}
     },
     "c27651e2f38846a7a07094f13369d320": {
      "model_module": "@jupyter-widgets/controls",
      "model_module_version": "2.0.0",
      "model_name": "HTMLStyleModel",
      "state": {
       "description_width": "",
       "font_size": null,
       "text_color": null
      }
     },
     "c277045240424db48bbbd5803e1ef545": {
      "model_module": "@jupyter-widgets/controls",
      "model_module_version": "2.0.0",
      "model_name": "HTMLModel",
      "state": {
       "layout": "IPY_MODEL_325b90d8de844ac292b85f2b052f61b1",
       "style": "IPY_MODEL_9207dd8caa374e26a5185a9721275be6",
       "value": " 1.0/1.0 [05:49&lt;00:00, 349.64s/it]"
      }
     },
     "c54be5c499534877b99212b8858ba717": {
      "model_module": "@jupyter-widgets/base",
      "model_module_version": "2.0.0",
      "model_name": "LayoutModel",
      "state": {}
     },
     "c55b04ffe7b6474ea2d06724d9454ab0": {
      "model_module": "@jupyter-widgets/controls",
      "model_module_version": "2.0.0",
      "model_name": "HTMLModel",
      "state": {
       "layout": "IPY_MODEL_53d0d9ba62924fff92d07c53460ced90",
       "style": "IPY_MODEL_f62c1da51178404ea16c559b6a91390c",
       "value": "Done - /Users/igorlapin/Разговор-12.mp3: 100%"
      }
     },
     "c5e0b1e65bc0406ab3d7db274613cf5d": {
      "model_module": "@jupyter-widgets/controls",
      "model_module_version": "2.0.0",
      "model_name": "FloatProgressModel",
      "state": {
       "layout": "IPY_MODEL_2e931e45016343a1a1affb718b700917",
       "max": 1,
       "style": "IPY_MODEL_220b6b42bc004fa0891b8a59816ba935",
       "value": 1
      }
     },
     "c5f6e04090964965b6b26d092ea26f8a": {
      "model_module": "@jupyter-widgets/controls",
      "model_module_version": "2.0.0",
      "model_name": "HTMLStyleModel",
      "state": {
       "description_width": "",
       "font_size": null,
       "text_color": null
      }
     },
     "c7f504589ae34ad4bec50bef00309a3e": {
      "model_module": "@jupyter-widgets/controls",
      "model_module_version": "2.0.0",
      "model_name": "FloatProgressModel",
      "state": {
       "layout": "IPY_MODEL_45769ebb8a79401e883c248d96d6634e",
       "max": 1,
       "style": "IPY_MODEL_00581eff390a4a56b443e300568694b5",
       "value": 1
      }
     },
     "c878aef707d04e7391451b32b3b22852": {
      "model_module": "@jupyter-widgets/controls",
      "model_module_version": "2.0.0",
      "model_name": "FloatProgressModel",
      "state": {
       "layout": "IPY_MODEL_66b763d638f64a93aeafbe01e471dd86",
       "max": 1,
       "style": "IPY_MODEL_3f7ea9d6865d4f659ed8375f96846a05",
       "value": 1
      }
     },
     "c87f9b2c354f4593846abef177f9a0a4": {
      "model_module": "@jupyter-widgets/controls",
      "model_module_version": "2.0.0",
      "model_name": "HTMLStyleModel",
      "state": {
       "description_width": "",
       "font_size": null,
       "text_color": null
      }
     },
     "ca4e05659d034fd2a5fe7d48a1d1307c": {
      "model_module": "@jupyter-widgets/base",
      "model_module_version": "2.0.0",
      "model_name": "LayoutModel",
      "state": {}
     },
     "ca84c0368a1547b19b9a3945e50284f9": {
      "model_module": "@jupyter-widgets/controls",
      "model_module_version": "2.0.0",
      "model_name": "HTMLStyleModel",
      "state": {
       "description_width": "",
       "font_size": null,
       "text_color": null
      }
     },
     "cab195c5c4264076847c7be5742360ae": {
      "model_module": "@jupyter-widgets/controls",
      "model_module_version": "2.0.0",
      "model_name": "FloatProgressModel",
      "state": {
       "layout": "IPY_MODEL_a57b90f1993148d1a63a9a803b87b653",
       "max": 1,
       "style": "IPY_MODEL_4aebd31dac6b4c7784abb0dfc2d07df5",
       "value": 1
      }
     },
     "cb6f1d9b600147f2b8d077cdeab027ba": {
      "model_module": "@jupyter-widgets/controls",
      "model_module_version": "2.0.0",
      "model_name": "HTMLStyleModel",
      "state": {
       "description_width": "",
       "font_size": null,
       "text_color": null
      }
     },
     "cb9a77877b5c4af8a9e6f1c3af432679": {
      "model_module": "@jupyter-widgets/base",
      "model_module_version": "2.0.0",
      "model_name": "LayoutModel",
      "state": {}
     },
     "cba64a0199e84c93a3b58ecce9aa19a9": {
      "model_module": "@jupyter-widgets/base",
      "model_module_version": "2.0.0",
      "model_name": "LayoutModel",
      "state": {}
     },
     "cc7942a73f2b43df9f98ea15a1b4e616": {
      "model_module": "@jupyter-widgets/controls",
      "model_module_version": "2.0.0",
      "model_name": "FloatProgressModel",
      "state": {
       "layout": "IPY_MODEL_78b623e548434d6885e570038ea299f1",
       "max": 1,
       "style": "IPY_MODEL_2c6077e6c7184c308b00894a0ec44376",
       "value": 1
      }
     },
     "ccb0b979e55544cd9c87159184be4e12": {
      "model_module": "@jupyter-widgets/controls",
      "model_module_version": "2.0.0",
      "model_name": "HTMLModel",
      "state": {
       "layout": "IPY_MODEL_45c797d5c61e47e79efebbc9b7db2efa",
       "style": "IPY_MODEL_1716149dae51449a83e767f1793e372f",
       "value": "Done - /Users/igorlapin/Разговор-6.mp3: 100%"
      }
     },
     "cdcc6a912a024da2b839f3cc37a2a0ca": {
      "model_module": "@jupyter-widgets/controls",
      "model_module_version": "2.0.0",
      "model_name": "HTMLModel",
      "state": {
       "layout": "IPY_MODEL_7f10619494bc4cc399d4a530f2067322",
       "style": "IPY_MODEL_46eb6aca22054bdeadc57175ab702385",
       "value": "Done - /Users/igorlapin/Разговор-8.mp3: 100%"
      }
     },
     "ce596a1e80da41de9ae08af324b0c3a3": {
      "model_module": "@jupyter-widgets/base",
      "model_module_version": "2.0.0",
      "model_name": "LayoutModel",
      "state": {}
     },
     "ce717d775f6f457593ad2b90206e40a0": {
      "model_module": "@jupyter-widgets/controls",
      "model_module_version": "2.0.0",
      "model_name": "ProgressStyleModel",
      "state": {
       "description_width": ""
      }
     },
     "cf0cb013961d40b1800235fdc4fec590": {
      "model_module": "@jupyter-widgets/controls",
      "model_module_version": "2.0.0",
      "model_name": "FloatProgressModel",
      "state": {
       "layout": "IPY_MODEL_f00fdd86c641451e9f4543373f4b2288",
       "max": 1,
       "style": "IPY_MODEL_14086ca207c44d9a8d763ef89f38e9a1",
       "value": 1
      }
     },
     "cf335e2ed1fa469bbb4d75065ad003b2": {
      "model_module": "@jupyter-widgets/controls",
      "model_module_version": "2.0.0",
      "model_name": "FloatProgressModel",
      "state": {
       "layout": "IPY_MODEL_2968794fee314cef8ece87eb95f5c977",
       "max": 1,
       "style": "IPY_MODEL_eddbbfe557f44ecd84b397fe323c0a23",
       "value": 1
      }
     },
     "cf4a23cfe46041058b04cbdf6623b7a2": {
      "model_module": "@jupyter-widgets/controls",
      "model_module_version": "2.0.0",
      "model_name": "HTMLStyleModel",
      "state": {
       "description_width": "",
       "font_size": null,
       "text_color": null
      }
     },
     "d0004436ee794bba937812f86caa02b7": {
      "model_module": "@jupyter-widgets/base",
      "model_module_version": "2.0.0",
      "model_name": "LayoutModel",
      "state": {}
     },
     "d12a14df9ee64f79ac86ea95da650ae8": {
      "model_module": "@jupyter-widgets/base",
      "model_module_version": "2.0.0",
      "model_name": "LayoutModel",
      "state": {}
     },
     "d4748de587794a51aa08a6eae19b213c": {
      "model_module": "@jupyter-widgets/base",
      "model_module_version": "2.0.0",
      "model_name": "LayoutModel",
      "state": {}
     },
     "d4ecb28794504f19968742791e20d02a": {
      "model_module": "@jupyter-widgets/base",
      "model_module_version": "2.0.0",
      "model_name": "LayoutModel",
      "state": {
       "visibility": "hidden"
      }
     },
     "d5bce1ec2c914d1487122f489956c376": {
      "model_module": "@jupyter-widgets/controls",
      "model_module_version": "2.0.0",
      "model_name": "ProgressStyleModel",
      "state": {
       "description_width": ""
      }
     },
     "d61c26081fe94a648cd62365a306c69f": {
      "model_module": "@jupyter-widgets/controls",
      "model_module_version": "2.0.0",
      "model_name": "HTMLModel",
      "state": {
       "layout": "IPY_MODEL_249ad344561e49949d8c337d1094bd5c",
       "style": "IPY_MODEL_b4ab0bad127247dcb028dbc24f682ca6",
       "value": " 1.0/1.0 [03:34&lt;00:00, 214.56s/it]"
      }
     },
     "d6b945372fda45dbbaa7755c0e751c97": {
      "model_module": "@jupyter-widgets/controls",
      "model_module_version": "2.0.0",
      "model_name": "HTMLModel",
      "state": {
       "layout": "IPY_MODEL_210fe8f1c43044a0ae988f8def22665f",
       "style": "IPY_MODEL_7ff5bc9f77b0437c8d1e0ded44dbc33e",
       "value": " 1.0/1.0 [04:56&lt;00:00, 296.87s/it]"
      }
     },
     "d82e9cd76c3846f79cf94719853c9e33": {
      "model_module": "@jupyter-widgets/base",
      "model_module_version": "2.0.0",
      "model_name": "LayoutModel",
      "state": {}
     },
     "d84f5f5ecfdc436ea68fe7ed3250b7fd": {
      "model_module": "@jupyter-widgets/controls",
      "model_module_version": "2.0.0",
      "model_name": "HTMLModel",
      "state": {
       "layout": "IPY_MODEL_342062c7b6eb464abb92739084d95f27",
       "style": "IPY_MODEL_2222392a2ea94f32b21bb2eca0a69e7f",
       "value": "Done - /Users/igorlapin/Разговор-20.mp3: 100%"
      }
     },
     "d8a39f67f7bc4f409de9cb2f00037326": {
      "model_module": "@jupyter-widgets/controls",
      "model_module_version": "2.0.0",
      "model_name": "HTMLModel",
      "state": {
       "layout": "IPY_MODEL_ada89b672dc34158b18a06cd370ff023",
       "style": "IPY_MODEL_7d6b144496e74299bcdf86a14185be53",
       "value": "Done - /Users/igorlapin/Разговор-15.mp3: 100%"
      }
     },
     "d8f7173d80ef43b0b7844e29155c5035": {
      "model_module": "@jupyter-widgets/base",
      "model_module_version": "2.0.0",
      "model_name": "LayoutModel",
      "state": {}
     },
     "d9a29e37e3b14b22b74dd3cfd04d7d94": {
      "model_module": "@jupyter-widgets/controls",
      "model_module_version": "2.0.0",
      "model_name": "FloatProgressModel",
      "state": {
       "layout": "IPY_MODEL_51f8e3422078438395772f62e48b07f8",
       "max": 1,
       "style": "IPY_MODEL_79d6e47c81d742eab87d6b8547ee9d38",
       "value": 1
      }
     },
     "da2c003021c6491abbbf74e17120d5ac": {
      "model_module": "@jupyter-widgets/controls",
      "model_module_version": "2.0.0",
      "model_name": "HTMLModel",
      "state": {
       "layout": "IPY_MODEL_358a1becc4d1405aaa7e9c8f2e07a88a",
       "style": "IPY_MODEL_addd71080d534d149336f981f685883e",
       "value": " 1.0/1.0 [04:59&lt;00:00, 299.82s/it]"
      }
     },
     "dab11806f0bb4b0d93d8db91a5460034": {
      "model_module": "@jupyter-widgets/controls",
      "model_module_version": "2.0.0",
      "model_name": "HTMLStyleModel",
      "state": {
       "description_width": "",
       "font_size": null,
       "text_color": null
      }
     },
     "db0738efb7de40ec897c134d06a78fa2": {
      "model_module": "@jupyter-widgets/controls",
      "model_module_version": "2.0.0",
      "model_name": "HTMLStyleModel",
      "state": {
       "description_width": "",
       "font_size": null,
       "text_color": null
      }
     },
     "db0c0340ebf746d5b339c9519aab3ee5": {
      "model_module": "@jupyter-widgets/controls",
      "model_module_version": "2.0.0",
      "model_name": "HTMLStyleModel",
      "state": {
       "description_width": "",
       "font_size": null,
       "text_color": null
      }
     },
     "db52f8fa2134432fab7a8287baca5f75": {
      "model_module": "@jupyter-widgets/controls",
      "model_module_version": "2.0.0",
      "model_name": "HTMLModel",
      "state": {
       "layout": "IPY_MODEL_128e89244ff74effa395f195cd902307",
       "style": "IPY_MODEL_b4c9293e244343128f663a76e9a8f166",
       "value": " 1.0/1.0 [04:57&lt;00:00, 297.71s/it]"
      }
     },
     "dd55a5f5795b48b5bf00fe43b1caabf3": {
      "model_module": "@jupyter-widgets/controls",
      "model_module_version": "2.0.0",
      "model_name": "HTMLStyleModel",
      "state": {
       "description_width": "",
       "font_size": null,
       "text_color": null
      }
     },
     "dd5cc5e1ea824edbb867fa02ca0fa5a4": {
      "model_module": "@jupyter-widgets/controls",
      "model_module_version": "2.0.0",
      "model_name": "ProgressStyleModel",
      "state": {
       "description_width": ""
      }
     },
     "ddcd76c0afd64bac981232b0b381c5df": {
      "model_module": "@jupyter-widgets/base",
      "model_module_version": "2.0.0",
      "model_name": "LayoutModel",
      "state": {}
     },
     "de095ea17eaf49acb20cfbc36d2800cb": {
      "model_module": "@jupyter-widgets/base",
      "model_module_version": "2.0.0",
      "model_name": "LayoutModel",
      "state": {
       "visibility": "hidden"
      }
     },
     "de1b5e73e632407eaabe8c23379b13ad": {
      "model_module": "@jupyter-widgets/controls",
      "model_module_version": "2.0.0",
      "model_name": "HTMLModel",
      "state": {
       "layout": "IPY_MODEL_a2e5f1a1744a4f14b6050f710254361d",
       "style": "IPY_MODEL_efa7b4ca27b24380a0f1be29068ee16f",
       "value": " 1.0/1.0 [03:32&lt;00:00, 212.37s/it]"
      }
     },
     "e1199f2a8af84592bd9ac9bae66931a1": {
      "model_module": "@jupyter-widgets/base",
      "model_module_version": "2.0.0",
      "model_name": "LayoutModel",
      "state": {}
     },
     "e122e7840ca6461eae4a2302a0303a29": {
      "model_module": "@jupyter-widgets/controls",
      "model_module_version": "2.0.0",
      "model_name": "HTMLStyleModel",
      "state": {
       "description_width": "",
       "font_size": null,
       "text_color": null
      }
     },
     "e18be2844ca44293a5b7e79ff5ddf66c": {
      "model_module": "@jupyter-widgets/controls",
      "model_module_version": "2.0.0",
      "model_name": "HTMLModel",
      "state": {
       "layout": "IPY_MODEL_00565ea7ad6c46d3aed26456d04e927b",
       "style": "IPY_MODEL_95b9eb99db474a1eb3da69ca46be1e60",
       "value": "Done - /Users/igorlapin/Разговор-15.mp3: 100%"
      }
     },
     "e347ef4b9f554c13b8685ca10ee8ebb4": {
      "model_module": "@jupyter-widgets/base",
      "model_module_version": "2.0.0",
      "model_name": "LayoutModel",
      "state": {}
     },
     "e4650ea7c0f9413387b05fb55508c48d": {
      "model_module": "@jupyter-widgets/base",
      "model_module_version": "2.0.0",
      "model_name": "LayoutModel",
      "state": {}
     },
     "e4f0781134a7412ba89e75d0c654337e": {
      "model_module": "@jupyter-widgets/controls",
      "model_module_version": "2.0.0",
      "model_name": "HTMLStyleModel",
      "state": {
       "description_width": "",
       "font_size": null,
       "text_color": null
      }
     },
     "e5926012becb4ce7ab6304b92dc983a0": {
      "model_module": "@jupyter-widgets/base",
      "model_module_version": "2.0.0",
      "model_name": "LayoutModel",
      "state": {}
     },
     "e674b1703f2e4ce8888a0440311f2fc5": {
      "model_module": "@jupyter-widgets/base",
      "model_module_version": "2.0.0",
      "model_name": "LayoutModel",
      "state": {
       "visibility": "hidden"
      }
     },
     "e6b5b39d699043788aced18b6b2e8f15": {
      "model_module": "@jupyter-widgets/controls",
      "model_module_version": "2.0.0",
      "model_name": "HTMLModel",
      "state": {
       "layout": "IPY_MODEL_e86dd730a3d646fd941d9f00e3bb1a78",
       "style": "IPY_MODEL_3dc8d95794a34dffb09f41c4ff22a6dc",
       "value": "Done - /Users/igorlapin/Разговор-15.mp3: 100%"
      }
     },
     "e6c1c437e4a640b8a9c54510ea6dfc2b": {
      "model_module": "@jupyter-widgets/controls",
      "model_module_version": "2.0.0",
      "model_name": "HTMLStyleModel",
      "state": {
       "description_width": "",
       "font_size": null,
       "text_color": null
      }
     },
     "e76b7d3ce5864cb0b37f5b8b3dc76902": {
      "model_module": "@jupyter-widgets/base",
      "model_module_version": "2.0.0",
      "model_name": "LayoutModel",
      "state": {}
     },
     "e7d7193e3e39408f83b0d8adddf69ab4": {
      "model_module": "@jupyter-widgets/controls",
      "model_module_version": "2.0.0",
      "model_name": "HTMLModel",
      "state": {
       "layout": "IPY_MODEL_d82e9cd76c3846f79cf94719853c9e33",
       "style": "IPY_MODEL_31e40865cb9b40d3b2e0cbf0c3cfae56",
       "value": "Done - /Users/igorlapin/Разговор-11.mp3: 100%"
      }
     },
     "e83b6ff4bf61477190b8411d9a107956": {
      "model_module": "@jupyter-widgets/base",
      "model_module_version": "2.0.0",
      "model_name": "LayoutModel",
      "state": {}
     },
     "e86dd730a3d646fd941d9f00e3bb1a78": {
      "model_module": "@jupyter-widgets/base",
      "model_module_version": "2.0.0",
      "model_name": "LayoutModel",
      "state": {}
     },
     "e89bd519232443d091846fcc64e33c79": {
      "model_module": "@jupyter-widgets/controls",
      "model_module_version": "2.0.0",
      "model_name": "FloatProgressModel",
      "state": {
       "layout": "IPY_MODEL_14a6ed36bea745c1a9686a9a9033c7c1",
       "max": 1,
       "style": "IPY_MODEL_8917d53594844df982eafea6605d488f",
       "value": 1
      }
     },
     "e8af240353ee4f59bcb49af954b9fad6": {
      "model_module": "@jupyter-widgets/base",
      "model_module_version": "2.0.0",
      "model_name": "LayoutModel",
      "state": {
       "visibility": "hidden"
      }
     },
     "e8f3fd4c6d24433891a5ab87989bdac1": {
      "model_module": "@jupyter-widgets/controls",
      "model_module_version": "2.0.0",
      "model_name": "ProgressStyleModel",
      "state": {
       "description_width": ""
      }
     },
     "e944049edfc14ec6819ae6b69e35e367": {
      "model_module": "@jupyter-widgets/controls",
      "model_module_version": "2.0.0",
      "model_name": "HTMLModel",
      "state": {
       "layout": "IPY_MODEL_552ef699fc37444e870d0c65f514d56c",
       "style": "IPY_MODEL_24aeb3dbf9f14fdc91eadceb89cd4658",
       "value": " 1.0/1.0 [01:52&lt;00:00, 112.83s/it]"
      }
     },
     "ea2b75911d95439da9eced4f0115aa0c": {
      "model_module": "@jupyter-widgets/controls",
      "model_module_version": "2.0.0",
      "model_name": "ProgressStyleModel",
      "state": {
       "description_width": ""
      }
     },
     "ebf8e40906a9405eb27c12a861934b5c": {
      "model_module": "@jupyter-widgets/controls",
      "model_module_version": "2.0.0",
      "model_name": "FloatProgressModel",
      "state": {
       "layout": "IPY_MODEL_396d997e3e594acca754e92b7f97335c",
       "max": 1,
       "style": "IPY_MODEL_3655a8db83bd42b8be65e9b79169909f",
       "value": 1
      }
     },
     "ecd08b244e6040a4ac9f78ce8a6260ac": {
      "model_module": "@jupyter-widgets/controls",
      "model_module_version": "2.0.0",
      "model_name": "HTMLModel",
      "state": {
       "layout": "IPY_MODEL_b8e9cc95aea846a9b4256a0aab06aabc",
       "style": "IPY_MODEL_39dce66ee64640828f33f79b468bad1a",
       "value": " 1.0/1.0 [05:37&lt;00:00, 337.52s/it]"
      }
     },
     "ed562be2c957420397dfb33046987b3b": {
      "model_module": "@jupyter-widgets/controls",
      "model_module_version": "2.0.0",
      "model_name": "FloatProgressModel",
      "state": {
       "layout": "IPY_MODEL_a08003e9355b4934a6c09aa946278460",
       "max": 1,
       "style": "IPY_MODEL_3218dbdfd4da41248c4de095ceb48f71",
       "value": 1
      }
     },
     "eddbbfe557f44ecd84b397fe323c0a23": {
      "model_module": "@jupyter-widgets/controls",
      "model_module_version": "2.0.0",
      "model_name": "ProgressStyleModel",
      "state": {
       "description_width": ""
      }
     },
     "ee2021252fa84cb8bb0d4dc2572f16fc": {
      "model_module": "@jupyter-widgets/controls",
      "model_module_version": "2.0.0",
      "model_name": "HTMLStyleModel",
      "state": {
       "description_width": "",
       "font_size": null,
       "text_color": null
      }
     },
     "ef29960ccc194e839e93c45e9f4ccf2c": {
      "model_module": "@jupyter-widgets/base",
      "model_module_version": "2.0.0",
      "model_name": "LayoutModel",
      "state": {}
     },
     "efa7b4ca27b24380a0f1be29068ee16f": {
      "model_module": "@jupyter-widgets/controls",
      "model_module_version": "2.0.0",
      "model_name": "HTMLStyleModel",
      "state": {
       "description_width": "",
       "font_size": null,
       "text_color": null
      }
     },
     "f00fdd86c641451e9f4543373f4b2288": {
      "model_module": "@jupyter-widgets/base",
      "model_module_version": "2.0.0",
      "model_name": "LayoutModel",
      "state": {}
     },
     "f0115b8ce61f461e9e0ac88cb6768ee1": {
      "model_module": "@jupyter-widgets/controls",
      "model_module_version": "2.0.0",
      "model_name": "HTMLModel",
      "state": {
       "layout": "IPY_MODEL_31e30d9df2614f8d80d84fea9f616828",
       "style": "IPY_MODEL_e6c1c437e4a640b8a9c54510ea6dfc2b",
       "value": "Done - /Users/igorlapin/Разговор-14.mp3: 100%"
      }
     },
     "f01a00bb8ddb402c8f8ac64ef8ca2799": {
      "model_module": "@jupyter-widgets/controls",
      "model_module_version": "2.0.0",
      "model_name": "HTMLStyleModel",
      "state": {
       "description_width": "",
       "font_size": null,
       "text_color": null
      }
     },
     "f03e9e88464a4362a3144d4e8aa9f846": {
      "model_module": "@jupyter-widgets/base",
      "model_module_version": "2.0.0",
      "model_name": "LayoutModel",
      "state": {}
     },
     "f0718ad5595e4881be4aae8add9801d8": {
      "model_module": "@jupyter-widgets/base",
      "model_module_version": "2.0.0",
      "model_name": "LayoutModel",
      "state": {
       "visibility": "hidden"
      }
     },
     "f087d8c288674fd9b744f3d1214a3663": {
      "model_module": "@jupyter-widgets/controls",
      "model_module_version": "2.0.0",
      "model_name": "ProgressStyleModel",
      "state": {
       "description_width": ""
      }
     },
     "f09bdc6c2e494fad89eaee44c80d826d": {
      "model_module": "@jupyter-widgets/controls",
      "model_module_version": "2.0.0",
      "model_name": "HTMLModel",
      "state": {
       "layout": "IPY_MODEL_50ced2db12b94175bd90c805cbaf3d7c",
       "style": "IPY_MODEL_693e60e4d7fe49ed9db9c8e0bdf6a658",
       "value": "Done - /Users/igorlapin/Разговор-7.mp3: 100%"
      }
     },
     "f0ef15fb12aa4544b99dc9d261f6379a": {
      "model_module": "@jupyter-widgets/base",
      "model_module_version": "2.0.0",
      "model_name": "LayoutModel",
      "state": {
       "visibility": "hidden"
      }
     },
     "f1559f4e885e4b7483e2c35c89de9908": {
      "model_module": "@jupyter-widgets/base",
      "model_module_version": "2.0.0",
      "model_name": "LayoutModel",
      "state": {}
     },
     "f196039d7df547748feeb9fef6e8a5c5": {
      "model_module": "@jupyter-widgets/base",
      "model_module_version": "2.0.0",
      "model_name": "LayoutModel",
      "state": {
       "visibility": "hidden"
      }
     },
     "f3ae380e274645c496925f38236099a4": {
      "model_module": "@jupyter-widgets/controls",
      "model_module_version": "2.0.0",
      "model_name": "HTMLStyleModel",
      "state": {
       "description_width": "",
       "font_size": null,
       "text_color": null
      }
     },
     "f465041937844c54b95976ddf72536b6": {
      "model_module": "@jupyter-widgets/base",
      "model_module_version": "2.0.0",
      "model_name": "LayoutModel",
      "state": {}
     },
     "f4980ae5847449ee9ec229c9fab8b948": {
      "model_module": "@jupyter-widgets/controls",
      "model_module_version": "2.0.0",
      "model_name": "ProgressStyleModel",
      "state": {
       "description_width": ""
      }
     },
     "f62c1da51178404ea16c559b6a91390c": {
      "model_module": "@jupyter-widgets/controls",
      "model_module_version": "2.0.0",
      "model_name": "HTMLStyleModel",
      "state": {
       "description_width": "",
       "font_size": null,
       "text_color": null
      }
     },
     "f6f1f9479d5b4adcbdc7e9e215bfa5d2": {
      "model_module": "@jupyter-widgets/controls",
      "model_module_version": "2.0.0",
      "model_name": "FloatProgressModel",
      "state": {
       "layout": "IPY_MODEL_0d4fef4d8ecb4cd6a5ce4acbdfcbe929",
       "max": 1,
       "style": "IPY_MODEL_03c2784976e04911b87970cc6ba17e40",
       "value": 1
      }
     },
     "f806ac7caf244e2dbecad59a0654cf6d": {
      "model_module": "@jupyter-widgets/base",
      "model_module_version": "2.0.0",
      "model_name": "LayoutModel",
      "state": {}
     },
     "f8d8a15523b54180abcfbd44eaa39d9a": {
      "model_module": "@jupyter-widgets/controls",
      "model_module_version": "2.0.0",
      "model_name": "FloatProgressModel",
      "state": {
       "layout": "IPY_MODEL_43eadc736b71424eb6e7a1e4df582bf3",
       "max": 1,
       "style": "IPY_MODEL_47da73b844c147968c7a6d7c24d5de11",
       "value": 1
      }
     },
     "f8dd6fb959d24a579b68687655f61447": {
      "model_module": "@jupyter-widgets/controls",
      "model_module_version": "2.0.0",
      "model_name": "FloatProgressModel",
      "state": {
       "layout": "IPY_MODEL_b19d7224e9d940d59bb5669dc952074b",
       "max": 1,
       "style": "IPY_MODEL_9479b998d49743ff8d674d985573d7d3",
       "value": 1
      }
     },
     "f9043e8c6ff042a3998f4ae8be32cbb2": {
      "model_module": "@jupyter-widgets/controls",
      "model_module_version": "2.0.0",
      "model_name": "FloatProgressModel",
      "state": {
       "layout": "IPY_MODEL_b0517e03335244ffaf2a1e1238ae6a38",
       "max": 1,
       "style": "IPY_MODEL_08c7064b27554b32b895adb6e801c007",
       "value": 1
      }
     },
     "f91477fe0c3443c1a8712cb24d7c9727": {
      "model_module": "@jupyter-widgets/base",
      "model_module_version": "2.0.0",
      "model_name": "LayoutModel",
      "state": {
       "visibility": "hidden"
      }
     },
     "f9b560dfdb7d4c7589fa9b5dbe1e01cd": {
      "model_module": "@jupyter-widgets/controls",
      "model_module_version": "2.0.0",
      "model_name": "HTMLModel",
      "state": {
       "layout": "IPY_MODEL_cba64a0199e84c93a3b58ecce9aa19a9",
       "style": "IPY_MODEL_aea1c5aa056f4fd5bc7b45379a66254b",
       "value": " 1.0/1.0 [05:24&lt;00:00, 324.80s/it]"
      }
     },
     "fbd8a639c66140eea026ca35d32c0966": {
      "model_module": "@jupyter-widgets/controls",
      "model_module_version": "2.0.0",
      "model_name": "HTMLModel",
      "state": {
       "layout": "IPY_MODEL_27ba0f5355c84181a7c972d3feca092d",
       "style": "IPY_MODEL_2cded27711b04551aaec3a96efb0b0e2",
       "value": "Done - /Users/igorlapin/Разговор-11.mp3: 100%"
      }
     },
     "fc492c0f6ce34bd1821008efdbfe654d": {
      "model_module": "@jupyter-widgets/base",
      "model_module_version": "2.0.0",
      "model_name": "LayoutModel",
      "state": {}
     },
     "fd2818e8ae51403380c1f7710c0dc50b": {
      "model_module": "@jupyter-widgets/base",
      "model_module_version": "2.0.0",
      "model_name": "LayoutModel",
      "state": {
       "visibility": "hidden"
      }
     }
    },
    "version_major": 2,
    "version_minor": 0
   }
  }
 },
 "nbformat": 4,
 "nbformat_minor": 5
}
