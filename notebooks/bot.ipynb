{
 "cells": [
  {
   "cell_type": "code",
   "execution_count": 14,
   "outputs": [
    {
     "name": "stderr",
     "output_type": "stream",
     "text": [
      "Failed to fetch updates - TelegramNetworkError: HTTP Client says - ServerDisconnectedError: Server disconnected\n",
      "Sleep for 1.000000 seconds and try again... (tryings = 0, bot id = 8146216531)\n",
      "Failed to fetch updates - TelegramConflictError: Telegram server says - Conflict: terminated by other getUpdates request; make sure that only one bot instance is running\n",
      "Sleep for 1.000000 seconds and try again... (tryings = 0, bot id = 8146216531)\n",
      "Failed to fetch updates - TelegramConflictError: Telegram server says - Conflict: terminated by other getUpdates request; make sure that only one bot instance is running\n",
      "Sleep for 1.269747 seconds and try again... (tryings = 1, bot id = 8146216531)\n",
      "Failed to fetch updates - TelegramConflictError: Telegram server says - Conflict: terminated by other getUpdates request; make sure that only one bot instance is running\n",
      "Sleep for 1.766380 seconds and try again... (tryings = 2, bot id = 8146216531)\n",
      "Failed to fetch updates - TelegramConflictError: Telegram server says - Conflict: terminated by other getUpdates request; make sure that only one bot instance is running\n",
      "Sleep for 2.353261 seconds and try again... (tryings = 3, bot id = 8146216531)\n",
      "Failed to fetch updates - TelegramConflictError: Telegram server says - Conflict: terminated by other getUpdates request; make sure that only one bot instance is running\n",
      "Sleep for 3.107150 seconds and try again... (tryings = 4, bot id = 8146216531)\n",
      "Received SIGINT signal\n",
      "Received SIGINT signal\n",
      "/var/folders/nk/wyw3kdr54zq4qvkf61lzbdth0000gn/T/ipykernel_59783/571596901.py:34: RuntimeWarning: coroutine 'main' was never awaited\n",
      "  await main()  # Works in Jupyter\n",
      "RuntimeWarning: Enable tracemalloc to get the object allocation traceback\n"
     ]
    }
   ],
   "source": [
    "import boto3\n",
    "import asyncio\n",
    "import aiohttp\n",
    "from aiogram import Bot, Dispatcher, types, F\n",
    "from aiogram.fsm.storage.memory import MemoryStorage\n",
    "import logging\n",
    "import os\n",
    "from aiogram import Router\n",
    "import uuid\n",
    "\n",
    "\n",
    "logging.basicConfig(level=logging.INFO)\n",
    "logger = logging.getLogger(__name__)\n",
    "API_TOKEN = os.getenv(\"TG_TOKEN\")\n",
    "bot = Bot(token=API_TOKEN)\n",
    "storage = MemoryStorage()\n",
    "dp = Dispatcher()\n",
    "\n",
    "router = Router()\n",
    "\n",
    "bucket_name = 'audio-bot-bucket'\n",
    "\n",
    "SERVICE_ACCOUNT_ID = \"\"\n",
    "SERVICE_ACCOUNT_PRIVATE_KEY = \"\"\n",
    "MAX_FILE_SIZE = 25 * 1024 * 1024  # 5 MB in bytes\n",
    "\n",
    "session = boto3.session.Session()\n",
    "s3 = session.client(\n",
    "    service_name='s3',\n",
    "    endpoint_url='https://storage.yandexcloud.net',\n",
    "    aws_access_key_id=SERVICE_ACCOUNT_ID,\n",
    "    aws_secret_access_key=SERVICE_ACCOUNT_PRIVATE_KEY\n",
    ")\n",
    "\n",
    "@dp.message()\n",
    "async def handle_audio(message: types.Message):\n",
    "    try:\n",
    "        if message.voice:\n",
    "            audio_url = f\"https://api.telegram.org/file/bot{API_TOKEN}/{await bot.get_file(message.voice.file_id).file_path}\"\n",
    "            logger.info(f\"📁 Voice URL: {audio_url}\")\n",
    "        elif message.audio:\n",
    "            audio_url = message.audio.file_id\n",
    "            file_info = await bot.get_file(message.audio.file_id)\n",
    "            audio_url = f\"https://api.telegram.org/file/bot{API_TOKEN}/{file_info.file_path}\"\n",
    "            logger.info(f\"📁 Audio URL: {audio_url}\")\n",
    "        async with aiohttp.ClientSession() as session:\n",
    "            async with session.head(audio_url) as resp:\n",
    "                if resp.status != 200:\n",
    "                    await message.reply(\"⚠️ Unable to retrieve file information.\")\n",
    "                    return\n",
    "                file_size = int(resp.headers.get('Content-Length', 0))\n",
    "\n",
    "        if file_size > MAX_FILE_SIZE:\n",
    "            await message.reply(f\"⚠️ The file is too large! Maximum allowed size is {MAX_FILE_SIZE / (1024 * 1024)} MB.\")\n",
    "            return\n",
    "\n",
    "\n",
    "        async with aiohttp.ClientSession() as session:\n",
    "            async with session.get(audio_url) as resp:\n",
    "                audio_data = await resp.read()\n",
    "        user_id = message.from_user.id\n",
    "        original_file_name = file_info.file_path.split('/')[-1]\n",
    "        unique_id = str(uuid.uuid4())\n",
    "        file_name = f\"{user_id}_{original_file_name}_{unique_id}\"\n",
    "\n",
    "        s3.put_object(Bucket='audio-bot-bucket', Key=file_name, Body=audio_data, StorageClass='COLD')\n",
    "    except Exception as e:\n",
    "        logger.error(f\"❌ Error processing audio: {e}\")\n",
    "        await message.reply(\"⚠️ Sorry, something went wrong while processing.\")\n",
    "\n",
    "async def on_startup(_):\n",
    "    logger.info(\"Bot is starting...\")\n",
    "\n",
    "async def main():\n",
    "    await dp.start_polling(bot)\n",
    "\n",
    "if __name__ == \"__main__\":\n",
    "    try:\n",
    "        logger.info(\"Starting bot...\")\n",
    "        asyncio.run(main())\n",
    "    except KeyboardInterrupt:\n",
    "        logger.error(\"Bot stopped by user\")\n",
    "    except Exception as e:\n",
    "        logger.error(f\"Bot crashed with error: {e}\")"
   ],
   "metadata": {
    "collapsed": false
   }
  },
  {
   "cell_type": "code",
   "execution_count": 2,
   "outputs": [
    {
     "name": "stdout",
     "output_type": "stream",
     "text": [
      "Collecting aiogram\r\n",
      "  Downloading aiogram-3.20.0.post0-py3-none-any.whl.metadata (7.6 kB)\r\n",
      "Collecting aiofiles<24.2,>=23.2.1 (from aiogram)\r\n",
      "  Downloading aiofiles-24.1.0-py3-none-any.whl.metadata (10 kB)\r\n",
      "Requirement already satisfied: aiohttp<3.12,>=3.9.0 in /opt/anaconda3/envs/whisper_env/lib/python3.10/site-packages (from aiogram) (3.11.10)\r\n",
      "Requirement already satisfied: certifi>=2023.7.22 in /opt/anaconda3/envs/whisper_env/lib/python3.10/site-packages (from aiogram) (2025.1.31)\r\n",
      "Collecting magic-filter<1.1,>=1.0.12 (from aiogram)\r\n",
      "  Downloading magic_filter-1.0.12-py3-none-any.whl.metadata (1.5 kB)\r\n",
      "Collecting pydantic<2.12,>=2.4.1 (from aiogram)\r\n",
      "  Downloading pydantic-2.11.3-py3-none-any.whl.metadata (65 kB)\r\n",
      "Requirement already satisfied: typing-extensions<=5.0,>=4.7.0 in /opt/anaconda3/envs/whisper_env/lib/python3.10/site-packages (from aiogram) (4.12.2)\r\n",
      "Requirement already satisfied: aiohappyeyeballs>=2.3.0 in /opt/anaconda3/envs/whisper_env/lib/python3.10/site-packages (from aiohttp<3.12,>=3.9.0->aiogram) (2.4.4)\r\n",
      "Requirement already satisfied: aiosignal>=1.1.2 in /opt/anaconda3/envs/whisper_env/lib/python3.10/site-packages (from aiohttp<3.12,>=3.9.0->aiogram) (1.2.0)\r\n",
      "Requirement already satisfied: attrs>=17.3.0 in /opt/anaconda3/envs/whisper_env/lib/python3.10/site-packages (from aiohttp<3.12,>=3.9.0->aiogram) (24.3.0)\r\n",
      "Requirement already satisfied: frozenlist>=1.1.1 in /opt/anaconda3/envs/whisper_env/lib/python3.10/site-packages (from aiohttp<3.12,>=3.9.0->aiogram) (1.5.0)\r\n",
      "Requirement already satisfied: multidict<7.0,>=4.5 in /opt/anaconda3/envs/whisper_env/lib/python3.10/site-packages (from aiohttp<3.12,>=3.9.0->aiogram) (6.1.0)\r\n",
      "Requirement already satisfied: propcache>=0.2.0 in /opt/anaconda3/envs/whisper_env/lib/python3.10/site-packages (from aiohttp<3.12,>=3.9.0->aiogram) (0.3.1)\r\n",
      "Requirement already satisfied: yarl<2.0,>=1.17.0 in /opt/anaconda3/envs/whisper_env/lib/python3.10/site-packages (from aiohttp<3.12,>=3.9.0->aiogram) (1.18.0)\r\n",
      "Requirement already satisfied: async-timeout<6.0,>=4.0 in /opt/anaconda3/envs/whisper_env/lib/python3.10/site-packages (from aiohttp<3.12,>=3.9.0->aiogram) (5.0.1)\r\n",
      "Collecting annotated-types>=0.6.0 (from pydantic<2.12,>=2.4.1->aiogram)\r\n",
      "  Downloading annotated_types-0.7.0-py3-none-any.whl.metadata (15 kB)\r\n",
      "Collecting pydantic-core==2.33.1 (from pydantic<2.12,>=2.4.1->aiogram)\r\n",
      "  Downloading pydantic_core-2.33.1-cp310-cp310-macosx_11_0_arm64.whl.metadata (6.8 kB)\r\n",
      "Collecting typing-inspection>=0.4.0 (from pydantic<2.12,>=2.4.1->aiogram)\r\n",
      "  Downloading typing_inspection-0.4.0-py3-none-any.whl.metadata (2.6 kB)\r\n",
      "Requirement already satisfied: idna>=2.0 in /opt/anaconda3/envs/whisper_env/lib/python3.10/site-packages (from yarl<2.0,>=1.17.0->aiohttp<3.12,>=3.9.0->aiogram) (3.7)\r\n",
      "Downloading aiogram-3.20.0.post0-py3-none-any.whl (666 kB)\r\n",
      "\u001B[2K   \u001B[90m━━━━━━━━━━━━━━━━━━━━━━━━━━━━━━━━━━━━━━━━\u001B[0m \u001B[32m666.6/666.6 kB\u001B[0m \u001B[31m9.1 MB/s\u001B[0m eta \u001B[36m0:00:00\u001B[0m\r\n",
      "\u001B[?25hDownloading aiofiles-24.1.0-py3-none-any.whl (15 kB)\r\n",
      "Downloading magic_filter-1.0.12-py3-none-any.whl (11 kB)\r\n",
      "Downloading pydantic-2.11.3-py3-none-any.whl (443 kB)\r\n",
      "Downloading pydantic_core-2.33.1-cp310-cp310-macosx_11_0_arm64.whl (1.9 MB)\r\n",
      "\u001B[2K   \u001B[90m━━━━━━━━━━━━━━━━━━━━━━━━━━━━━━━━━━━━━━━━\u001B[0m \u001B[32m1.9/1.9 MB\u001B[0m \u001B[31m9.1 MB/s\u001B[0m eta \u001B[36m0:00:00\u001B[0m\r\n",
      "\u001B[?25hDownloading annotated_types-0.7.0-py3-none-any.whl (13 kB)\r\n",
      "Downloading typing_inspection-0.4.0-py3-none-any.whl (14 kB)\r\n",
      "Installing collected packages: typing-inspection, pydantic-core, magic-filter, annotated-types, aiofiles, pydantic, aiogram\r\n",
      "Successfully installed aiofiles-24.1.0 aiogram-3.20.0.post0 annotated-types-0.7.0 magic-filter-1.0.12 pydantic-2.11.3 pydantic-core-2.33.1 typing-inspection-0.4.0\r\n",
      "Note: you may need to restart the kernel to use updated packages.\n"
     ]
    }
   ],
   "source": [
    "pip install aiogram"
   ],
   "metadata": {
    "collapsed": false
   }
  },
  {
   "cell_type": "code",
   "execution_count": null,
   "outputs": [],
   "source": [],
   "metadata": {
    "collapsed": false
   }
  }
 ],
 "metadata": {
  "kernelspec": {
   "display_name": "Python 3",
   "language": "python",
   "name": "python3"
  },
  "language_info": {
   "codemirror_mode": {
    "name": "ipython",
    "version": 2
   },
   "file_extension": ".py",
   "mimetype": "text/x-python",
   "name": "python",
   "nbconvert_exporter": "python",
   "pygments_lexer": "ipython2",
   "version": "2.7.6"
  }
 },
 "nbformat": 4,
 "nbformat_minor": 0
}
