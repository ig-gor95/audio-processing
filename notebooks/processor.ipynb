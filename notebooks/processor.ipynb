{
 "cells": [
  {
   "cell_type": "code",
   "execution_count": null,
   "metadata": {
    "collapsed": true,
    "pycharm": {
     "name": "#%%\n"
    }
   },
   "outputs": [],
   "source": [
    "import boto3\n",
    "import time\n",
    "import os\n",
    "from telegram import Bot\n",
    "\n",
    "API_TG_TOKEN = os.getenv(\"TG_TOKEN\")\n",
    "bot = Bot(token=API_TOKEN)\n",
    "BUCKET_NAME = 'audio-bot-bucket'\n",
    "\n",
    "session = boto3.session.Session()\n",
    "s3 = session.client(\n",
    "    service_name='s3',\n",
    "    endpoint_url='https://storage.yandexcloud.net',\n",
    "    aws_access_key_id=SERVICE_ACCOUNT_ID,\n",
    "    aws_secret_access_key=SERVICE_ACCOUNT_PRIVATE_KEY\n",
    ")\n",
    "\n",
    "bot = Bot(token=API_TG_TOKEN)\n",
    "\n",
    "def process_file(file_path):\n",
    "    \"\"\"Simulate file processing.\"\"\"\n",
    "    print(f\"Processing file: {file_path}\")\n",
    "    time.sleep(5)\n",
    "    print(f\"Finished processing file: {file_path}\")\n",
    "    return f\"Processed {file_path}\"\n",
    "\n",
    "def send_telegram_message(message):\n",
    "    \"\"\"Send a message to a Telegram user.\"\"\"\n",
    "    bot.send_message(chat_id=CHAT_ID, text=message)\n",
    "\n",
    "def main():\n",
    "\n",
    "    objects = s3.list_objects_v2(Bucket=bucket_name)\n",
    "\n",
    "    if 'Contents' not in objects:\n",
    "        print(\"No files to process.\")\n",
    "        return\n",
    "\n",
    "    for obj in objects['Contents']:\n",
    "        file_key = obj['Key']\n",
    "        file_path = f'/tmp/{file_key}'\n",
    "\n",
    "        s3.download_file(bucket_name, file_key, file_path)\n",
    "\n",
    "        result_message = process_file(file_path)\n",
    "\n",
    "        send_telegram_message(result_message)\n",
    "\n",
    "        s3.delete_object(Bucket=bucket_name, Key=file_key)\n",
    "        print(f\"Deleted file from S3: {file_key}\")\n",
    "\n",
    "        if os.path.exists(file_path):\n",
    "            os.remove(file_path)\n",
    "\n",
    "if __name__ == \"__main__\":\n",
    "    main()\n",
    "\n"
   ]
  }
 ],
 "metadata": {
  "kernelspec": {
   "display_name": "Python 3",
   "language": "python",
   "name": "python3"
  },
  "language_info": {
   "codemirror_mode": {
    "name": "ipython",
    "version": 2
   },
   "file_extension": ".py",
   "mimetype": "text/x-python",
   "name": "python",
   "nbconvert_exporter": "python",
   "pygments_lexer": "ipython2",
   "version": "2.7.6"
  }
 },
 "nbformat": 4,
 "nbformat_minor": 0
}